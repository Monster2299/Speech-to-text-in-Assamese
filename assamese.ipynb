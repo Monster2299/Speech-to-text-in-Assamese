{
 "cells": [
  {
   "cell_type": "code",
   "execution_count": 1,
   "id": "cb278320",
   "metadata": {},
   "outputs": [],
   "source": [
    "import os\n",
    "import librosa\n",
    "import IPython.display as ipd\n",
    "import matplotlib.pyplot as plt\n",
    "import numpy as np\n",
    "from scipy.io import wavfile\n",
    "import warnings\n",
    "\n",
    "warnings.filterwarnings(\"ignore\")"
   ]
  },
  {
   "cell_type": "code",
   "execution_count": 2,
   "id": "44ef7878",
   "metadata": {},
   "outputs": [
    {
     "data": {
      "text/plain": [
       "['dataset', 'voice_commands']"
      ]
     },
     "execution_count": 2,
     "metadata": {},
     "output_type": "execute_result"
    }
   ],
   "source": [
    "os.listdir(\"./input\")"
   ]
  },
  {
   "cell_type": "code",
   "execution_count": 3,
   "id": "b7353ece",
   "metadata": {},
   "outputs": [],
   "source": [
    "char_map_str = \"\"\"\n",
    "ঀ 0\n",
    "ঁ 1\n",
    "ং 2\n",
    "ঃ 3\n",
    "অ 4\n",
    "আ 5\n",
    "ই 6\n",
    "ঈ 7\n",
    "উ 8\n",
    "ঊ 9\n",
    "ঋ 10\n",
    "ঌ 11\n",
    "এ 12\n",
    "ঐ 13\n",
    "ও 14\n",
    "ঔ 15\n",
    "ক 16\n",
    "খ 17\n",
    "গ 18\n",
    "ঘ 19\n",
    "ঙ 20\n",
    "চ 21\n",
    "ছ 22\n",
    "জ 23\n",
    "ঝ 24\n",
    "ঞ 25\n",
    "ট 26\n",
    "ঠ 27\n",
    "ড 28\n",
    "ঢ 29\n",
    "ণ 30\n",
    "ত 31\n",
    "থ 32\n",
    "দ 33\n",
    "ধ 34\n",
    "ন 35\n",
    "প 36\n",
    "ফ 37\n",
    "ব 38\n",
    "ভ 39\n",
    "ম 40\n",
    "য 41\n",
    "ৰ 42\n",
    "ল 43\n",
    "শ 44\n",
    "ষ 45\n",
    "স 46\n",
    "হ 47\n",
    "় 48\n",
    "ঽ 49\n",
    "া 50\n",
    "ি 51\n",
    "ী 52\n",
    "ু 53\n",
    "ূ 54\n",
    "ৃ 55\n",
    "ৄ 56\n",
    "ে 57\n",
    "ৈ 58\n",
    "ো 59\n",
    "ৌ 60\n",
    "্ 61\n",
    "ৎ 62\n",
    "ৗ 63\n",
    "ড় 64\n",
    "ঢ় 65\n",
    "য় 66\n",
    "ৠ 67\n",
    "০ 68\n",
    "১ 69\n",
    "২ 70\n",
    "৩ 71\n",
    "৪ 72\n",
    "৫ 73\n",
    "৬ 74\n",
    "৭ 75\n",
    "৮ 76\n",
    "৯ 77\n",
    "ৱ 78\n",
    "৲ 79\n",
    "৴ 80\n",
    "<SPACE> 81\n",
    "\"\"\"\n",
    "# the \"blank\" character is mapped to 84\n",
    "char_map = {}\n",
    "index_map = {}\n",
    "for line in char_map_str.strip().split('\\n'):\n",
    "    ch, index = line.split()\n",
    "    char_map[ch] = int(index)\n",
    "    index_map[int(index)] = ch\n",
    "index_map[81] = ' '"
   ]
  },
  {
   "cell_type": "code",
   "execution_count": 4,
   "id": "6f9a584e",
   "metadata": {},
   "outputs": [
    {
     "name": "stdout",
     "output_type": "stream",
     "text": [
      "{'ঀ': 0, 'ঁ': 1, 'ং': 2, 'ঃ': 3, 'অ': 4, 'আ': 5, 'ই': 6, 'ঈ': 7, 'উ': 8, 'ঊ': 9, 'ঋ': 10, 'ঌ': 11, 'এ': 12, 'ঐ': 13, 'ও': 14, 'ঔ': 15, 'ক': 16, 'খ': 17, 'গ': 18, 'ঘ': 19, 'ঙ': 20, 'চ': 21, 'ছ': 22, 'জ': 23, 'ঝ': 24, 'ঞ': 25, 'ট': 26, 'ঠ': 27, 'ড': 28, 'ঢ': 29, 'ণ': 30, 'ত': 31, 'থ': 32, 'দ': 33, 'ধ': 34, 'ন': 35, 'প': 36, 'ফ': 37, 'ব': 38, 'ভ': 39, 'ম': 40, 'য': 41, 'ৰ': 42, 'ল': 43, 'শ': 44, 'ষ': 45, 'স': 46, 'হ': 47, '়': 48, 'ঽ': 49, 'া': 50, 'ি': 51, 'ী': 52, 'ু': 53, 'ূ': 54, 'ৃ': 55, 'ৄ': 56, 'ে': 57, 'ৈ': 58, 'ো': 59, 'ৌ': 60, '্': 61, 'ৎ': 62, 'ৗ': 63, 'ড়': 64, 'ঢ়': 65, 'য়': 66, 'ৠ': 67, '০': 68, '১': 69, '২': 70, '৩': 71, '৪': 72, '৫': 73, '৬': 74, '৭': 75, '৮': 76, '৯': 77, 'ৱ': 78, '৲': 79, '৴': 80, '<SPACE>': 81}\n",
      "****************************************************\n",
      "{0: 'ঀ', 1: 'ঁ', 2: 'ং', 3: 'ঃ', 4: 'অ', 5: 'আ', 6: 'ই', 7: 'ঈ', 8: 'উ', 9: 'ঊ', 10: 'ঋ', 11: 'ঌ', 12: 'এ', 13: 'ঐ', 14: 'ও', 15: 'ঔ', 16: 'ক', 17: 'খ', 18: 'গ', 19: 'ঘ', 20: 'ঙ', 21: 'চ', 22: 'ছ', 23: 'জ', 24: 'ঝ', 25: 'ঞ', 26: 'ট', 27: 'ঠ', 28: 'ড', 29: 'ঢ', 30: 'ণ', 31: 'ত', 32: 'থ', 33: 'দ', 34: 'ধ', 35: 'ন', 36: 'প', 37: 'ফ', 38: 'ব', 39: 'ভ', 40: 'ম', 41: 'য', 42: 'ৰ', 43: 'ল', 44: 'শ', 45: 'ষ', 46: 'স', 47: 'হ', 48: '়', 49: 'ঽ', 50: 'া', 51: 'ি', 52: 'ী', 53: 'ু', 54: 'ূ', 55: 'ৃ', 56: 'ৄ', 57: 'ে', 58: 'ৈ', 59: 'ো', 60: 'ৌ', 61: '্', 62: 'ৎ', 63: 'ৗ', 64: 'ড়', 65: 'ঢ়', 66: 'য়', 67: 'ৠ', 68: '০', 69: '১', 70: '২', 71: '৩', 72: '৪', 73: '৫', 74: '৬', 75: '৭', 76: '৮', 77: '৯', 78: 'ৱ', 79: '৲', 80: '৴', 81: ' '}\n"
     ]
    }
   ],
   "source": [
    "print(char_map)\n",
    "print(\"****************************************************\")\n",
    "print(index_map)"
   ]
  },
  {
   "cell_type": "code",
   "execution_count": 5,
   "id": "38fbcee2",
   "metadata": {},
   "outputs": [
    {
     "data": {
      "text/plain": [
       "83"
      ]
     },
     "execution_count": 5,
     "metadata": {},
     "output_type": "execute_result"
    }
   ],
   "source": [
    "def get_number_of_char_classes(char_map):\n",
    "    ## TODO would be better to check with dataset (once cleaned)\n",
    "    num_classes = len(char_map)+1 #need +1 for ctc null char +1 pad\n",
    "    return num_classes\n",
    "get_number_of_char_classes(char_map)"
   ]
  },
  {
   "cell_type": "code",
   "execution_count": 6,
   "id": "5a5e6e4a",
   "metadata": {},
   "outputs": [
    {
     "data": {
      "text/plain": [
       "'তুমাৰ'"
      ]
     },
     "execution_count": 6,
     "metadata": {},
     "output_type": "execute_result"
    }
   ],
   "source": [
    "def text_to_int_sequence(text):\n",
    "    \"\"\" Convert text to an integer sequence \"\"\"\n",
    "    int_sequence = []\n",
    "    for c in text:\n",
    "        if c == ' ':\n",
    "            ch = char_map['<SPACE>']\n",
    "        else:\n",
    "            ch = char_map[c]\n",
    "        int_sequence.append(ch)\n",
    "    return int_sequence\n",
    "def int_sequence_to_text(int_sequence):\n",
    "    \"\"\" Convert an integer sequence to text \"\"\"\n",
    "    text = []\n",
    "    str1 = \"\"\n",
    "    for c in int_sequence:\n",
    "        ch = index_map[c]\n",
    "        text.append(ch)\n",
    "    for ele in text: \n",
    "        str1 += ele \n",
    "    return str1\n",
    "int_sequence = text_to_int_sequence(\"তুমাৰ\")\n",
    "int_sequence_to_text(int_sequence)"
   ]
  },
  {
   "cell_type": "code",
   "execution_count": 7,
   "id": "ab411149",
   "metadata": {
    "scrolled": true
   },
   "outputs": [
    {
     "data": {
      "text/plain": [
       "[<matplotlib.lines.Line2D at 0x22a1135b970>]"
      ]
     },
     "execution_count": 7,
     "metadata": {},
     "output_type": "execute_result"
    },
    {
     "data": {
      "image/png": "[encoded data removed]",
      "text/plain": [
       "<Figure size 1008x576 with 1 Axes>"
      ]
     },
     "metadata": {
      "needs_background": "light"
     },
     "output_type": "display_data"
    }
   ],
   "source": [
    "train_audio_path = './input/dataset/train/audio/'\n",
    "samples, sample_rate = librosa.load(train_audio_path+'তুমাৰ/mehedi1.wav', sr = 16000)\n",
    "fig = plt.figure(figsize=(14, 8))\n",
    "text = int_sequence_to_text(text_to_int_sequence(\"তুমাৰ\"))\n",
    "ax1 = fig.add_subplot(211)\n",
    "ax1.set_title('Raw wave of ' +text+'/mehedi1.wav')\n",
    "ax1.set_xlabel('time')\n",
    "ax1.set_ylabel('Amplitude')\n",
    "ax1.plot(np.linspace(0, sample_rate/len(samples), sample_rate), samples)"
   ]
  },
  {
   "cell_type": "code",
   "execution_count": 8,
   "id": "369888ce",
   "metadata": {},
   "outputs": [
    {
     "data": {
      "text/html": [
       "\n",
       "                <audio  controls=\"controls\" >\n",
       "                    <source src=\"data:audio/wav;base64,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\" type=\"audio/wav\" />\n",
       "                    Your browser does not support the audio element.\n",
       "                </audio>\n",
       "              "
      ],
      "text/plain": [
       "<IPython.lib.display.Audio object>"
      ]
     },
     "execution_count": 8,
     "metadata": {},
     "output_type": "execute_result"
    }
   ],
   "source": [
    "ipd.Audio(samples, rate=sample_rate)"
   ]
  },
  {
   "cell_type": "code",
   "execution_count": 9,
   "id": "dde58288",
   "metadata": {},
   "outputs": [
    {
     "name": "stdout",
     "output_type": "stream",
     "text": [
      "16000\n"
     ]
    }
   ],
   "source": [
    "print(sample_rate)"
   ]
  },
  {
   "cell_type": "code",
   "execution_count": 10,
   "id": "dbe7e5d4",
   "metadata": {},
   "outputs": [
    {
     "data": {
      "text/html": [
       "\n",
       "                <audio  controls=\"controls\" >\n",
       "                    <source src=\"data:audio/wav;base64,UklGRqQ+AABXQVZFZm10IBAAAAABAAEAQB8AAIA+AAACABAAZGF0YYA+AACZ/zP/I/8//8v/1v+6/0T/v/7w/gr/bv+R/4P/hP+L/8f/r/+p/4j/jP94/7z/OgBYAFUAAwDw/+L/HwBNAF8AnQChAK4A3QABAeYAvAD/AFcBqwEMArABiwGmAVgBRQGIAZkBcwGTAWwBagGDAfwA3gAGAd8A6QD9ALwA/gDjAKkAngA9ACMAZQCrAKYA0gBAAAkA9v+t//D/CAAWAA8As/+U/3r/NP9c/0P/Rv9t/4r/c/8u/zr/KP8r/23/ev+Q/7v/jf9r/6T/j/+D/5//hP+5/9v/7P84AAsADwBOAB0AQgBKAE8AVwBgAEkALwCkAHAAOABRAFUASgAzAAUAAQAjAO//+v8NAOb/OAAoAPj/bwAIAAEAQgAAAPz/z/+L/37/WP+B/3f/Sv8+//X+Of8d/1z/Mv8K/4n/Qv9H/1D/Nv9d/1n/WP9l/7X/pf9y/+L/Uf9p/9j/j//K/1H/RP+Q/4f/vv+9/9//zf/h/xcA9/9xADMAJgBdACcAgAAIAFcAdwBNAKIABAAvAGQASwDBAKoAigB1ACsAkwCpALIAtwA4AJwApACgANUAaQCdAFQAKwBnAE0ATAAVAB8AFQAyADwAEQBMAA4A5f8fAP7/FgA/ABkA0P/+/wYA2P/m/9L/5f/m//z/IAAgAOj/ov+j/+D/2P/g/77/of/f/8z/5P8RAPT/AwAKAAkAFADv/xgA3v/6/wYAzf8wACcALgBvAEsAVQBSAC0AfwCaALkAywC6ALwAowBcAEwAbwBSALMAeABzALEAMgCBAEoAKgCLAFgAeAA/AFkAwgCEALIAaAAjAG4ASgBvAD4A9f/n//v/OQA1AH0ALgD3/0QA1f8MAAgAqv/1//n/WgBuADEASADk//f/FQAPAJ4AwQCsAHsAYACiAMAA1AAWAf8A1AAsAc4AEwGzAfkAkwGOAQYB5wFQAV4BtQE2AY0B9wAdAXgBLQG/AWkBWQFtARwBmQF5AY8B3QHAAe4BvAGqAUoBFAHgAOYAWwHSACYBBgGHADABlACUAAcBnAA+ARYBGwEDAXkA1wBoAEkAQgAIAA4A6f8mAAAA6P/U/0H////m//j/XgCs/4gAZQB0ADsBfQD+AOMAbQAfAckA4QCSAEQAcAAOAJAAdwDEABEBYQARARIB2gBDAc4ACgF0AaoB1gGTAW0B7gAQAQsBGAFsAawA9QC5AFsACAFhAGAASwA9APkAgACvAE0A9P+ZACEAjgCmADEAqgAyAAsAWAAEAAAA9f/e/97/f/8O/zD/Wv8+/03/9f4c/5z/ZP/n/6v/P/+5/+f+f/++/+L+eP/7/h7/mf8C/3D/Vv8W/6//ff+8//3/9/8vAEYAUABKAHYAWwBmALAA4QCcALQAYgE3AQgBegEmAWgB2QFWAacBBAG5AGIB2QAcAfMATACVAFgAXgDKAH4AKAAXANP/8P9eAGsApQCIAAgAPgDV/8H/TQDj/wwAsv9p/+P/X//A/7L/Of8RALX/tf8UAI3/xv+g/4L/EQA7AAUA7P+t/1P/1P/i/53/6v9k/5D/4/8//6j/if/1/qr/nf/e/y4AUP+w/xUA+v9nAKEAWQChAO8AXABaAGkAGQCUAJEALACJAPP/xf9RAOb/NAB2ALb/BQAUAIv/RADz/9L/6gAjAEcAWgCN/xQAkv+H/9f/+f7L/p7+VP55/ob+6/66/u/+J//r/hn/1P4l/2P/4v7D/uj+pv4n/3n/Bf8g/4b+Vv7c/nn+y/6o/hj+f/4T/4L/sv/b/7//YwCTALUAWAEPATMBIgHxAEQBzgCeAHsAAAAtABkAAgCj/yz/Zf+H/9T/GABLAKYAdABNAOQALQFnAcgBSwEIAfIAYQCJAL4ABwAOABYAR/8XAPj/+//OAC8AzwDbAFUA7ADCAGsAxQBwADwAdgBBABIA5f+X/2X/pf+1/2H/s/9w/9P+hf+u/q/+bf9B/p7+KP/u/l//H/+d/rb//v/R/w4B/v+O/3oAo/92AOUAVwCuACEA5f9yAMr/0P/j/8n/FwDe/xQAgP/m/93/OADAAEoAYAAQALf/+/86ADcAlwDc/zEAAwDr/yAAQAAlAHP/VgCT/y8AbgCI/04Ajv+3/yMAAABkAFQAGQDB/8X/4f8ZAHAAWQCr//b/E/+a/7n/uf6w/4T+tP7g/uH+KP/r/nH+of7u/sv+Iv8B/6z+4f6a/0//ygBIACEAxQDO/6EAigA4AIkAAgBEAMYAvADGAIwAXAAxAPUAUgG8AbkBdAFzAawA0gA6AfEAWQH7AM0A4QDo//v/JwCv/ycAFAC3/9z/Hv+M/yT/jP/l/ywADQBPABEA8f99AJj/wwBKACoAbADo/3v/7/+y/gb/Mv/V/gEAcv8E/zH/Yv+r/7EAFAC1AF0ADACeAAUA7v9IAM7/GACs/+j/t/9+/wAAO/9H///+9v6Q//P/xf92AG//lgDTAMwAAAHEAIMAbgDpAOMAfgGWAN0AUAE6AUoBiwE8AM8ASgC+AFEBoQCNACYAYACGAMEA+ADnAEMAiwDw/1cAFACWAJMAjgBpAKMAggAeAYwBCgE7AU4BYgHhAOYA2P8NAFH/CQC+/5r/S/+n/1IAyv99AKkA+P8DANEAZwAGAegADAEIAdAAKQESAWIAgAAuAPn/IwBnAJUAggEvAdoAgwG8AAYBcwHnAdwBqALxAm8DgwPBAhcDjAJhAT0CsAEpAGoAV/9T/wr/jP7+/tT+MP+W/8f+l/4o/s3+4f/h/rj+1f9l/5T/3P86/9r9jPzG/Y794/6z/rH+2wIMBHoFBw7CBwUFQA5LBD8Er//U8GH8a/2K+6MN/gFK+wgKkQSEC20P4ftY/cn6EPlTBxD7qPCB887yPAHNCHQBHQCo9/X4mASPBpAGhAFf+en6g/5xATwGHQBT/H/+f/4bA7UHJQcSB2wFRwWhCL4L8Q1aCr0ECQAh/u3/SALGAc//N/0+/Z0A4gQ6AlP95viu9Lr3Pfpb+u/35fNe8nX2dPpG/2cBUwBA//P6uPuv/6f/kwLRAKz+QALOAfgKIBAnDK4NzwrdBdELcw1QC4sJPwOzAtoEwge7CgwLdQjoBWMDHgDK+034uvWr8nfwBu7A6J/naOhk7d74Jv7mBK4K4Q1kE4QVSRSlEYEKFQKJ+dDw8Oqk5eDjT+bB6//1WANdDyIdTSbwKnguLSv5JVgfVhWeCon/DvYj7xLqQ+r27eny/vYx+On24PMF8EDuTe2962rtv+8D9Dz9pQZtEb4YKRiuFcsR/Q2wCoEG1f4l9E/mAt2b3BLe6ufu82j87QU5DvMWpyIbLd82IzulMmkiuw6O/CvvWety7AnwafHZ8R3z9PN++QT/YQSSBWL/mfRI55Tb19oV4nnvfAApDbQYXh88IFQfrRz7FjsR+AsvAD3yRuGB0FjI7cjT1GnlovW5ABAKVhHoGk8n5jBuOa45DS+oHEAHovL05fLhQefK7+z2DPpu+tP6WP0MBKwKiA/vC/T/Te+h3UfTktZp4t31agnyGSQmmyghJXYdPBVsDgAMggdn+wjqFdRiw06/k8i93OHvawBUCykQshMQGRghQCuINbg4Pi+3GscA5eiv3U/gG+6x/X4KJg6eC4YGZQOsBhwLpRC5DnUArOx111vFicQj0WvoAAUIH2Qw1jGRKMwYuwz/BFIEFgX0+7Xrf9USwgi4eb6S0tTreQVYFL4YQRXPEFsR8xhKJtQvPy8QJFYP+Pbw5tviPu31/nQSFh+EHAUUiglrAc4BgAgkDRMLhf5862XUx8GfwCjML+bLCAIkdjJ8Muwi/g+CAM/2QPgE+QX4LfFs4ETRGMhhyZfXoO1cA10RbhWxEn8McAmkD3caIiebLyIsrB6bCjn4qO5t7yH7Jg19G2kinyDkE2cFUP27+g3/zAMCAQX07d6Wx5m3trfoxw3lWQStHzguXCuhHHALJP6B90b9LgSBBvAAvfNw4m3TPNHh2A/pMfpAB1kMVglLB50H7Q1QG8kqATQRM2oprBagA833JfegAUEQIR0IIUYZzQzw/2H27/SH+MT5NfTB5S3Q3rlyqxOuCsGe3wICCR/3LpIvyiVCF28LbAabCIULQgtXAy3ztOGk0VnKQ80C2O3l9fEH+00AwgUYDiYc6CvWOPNAGD0pMIwebAwUABX8CAGBCFENIg7dCCsACPlN9wr5E/y0/Z33WOtR2TPIgbyEukTIgt3x9vYOJR8uJxso9iInHWcX6xBeDjQJWAJ++Zbsr9+o1nPTadSY2nvh4+lf8/P+/A3/G64qPzahO1c6pTEsJM4ToAbu/yH9+v5pAuICPQBF+3T2wvMl9Cj3kflo+GbyoeYR2B/N6cc6yinVCOaj+msNBxwyJtooFCa7IFsZ9xELDCoGdAA8+anwDegr3/PYv9XA1SzZQ+AR65L54wpKHGYsUzhyPhw+4jaHKn4bEg4KBK79Ivqi+AX3HfOl7xXvd/Eo9kH9YAKbA8X/yvY960vfcNYR01TW595X7Br76AnzF/8gBCU7JOsfShnUElcNwAa+/5/2++sa4GrVeM3tyXTLGdOw4PvvFQPQFeUmYTXTPqlCoD+iNNgkuBS7BC36+fQ289/zlPQq9rr3bfoW/3kEVQjECdsH3v8T9EnmLtrO0enPNtX+32Tv4P/bEYEhQyvML5Au6ie1HZ0TcQiV/B3xV+Zw3DDS6sxuyoDKwM8d2YDm3vV2CLwaSSvJOEtAcECZOF8qnBjcCGz8ZvU49G31p/fD+bL6ZPuB/OD+agIjBGQEjgEP+jXxiuhI4W3dtd2i4avoM/Jk/loLYhkLJd8qDSv2I10Ywwn6+7PwBunQ5AfjX+Lu36bda9rQ2FrbFuKC7rb96g32HZYqqjI0Ni011i4yJTIabg4mA6L6OvY69HD1wffr+XT7lvtR/Db9ff4YAGkCzwNnAwYBMft39cvta+c/5QTm4uyC9+8FdRKIG1UePxqtEnEImgDW+Ab1wPIS8CLuWuoE5gzhg93m20jd7eJx7Ir4TQZxFXgjhi6hNUk2JjCfI2oTmgPv9trwE/Ej9Rj7tP+HATkBo/9KAJoDWghHDvASjhOLD2QHn/xV8b7nEeEP3njf1eQ17uD6pwinEw4bsh3iGvcUIA4DB9P/uflD9DXua+f04AjaDNPJznHOh9If3JzquvxWEKEiszCHOGE5OjO7J8wZdQxQAVn6LPeX9pn38/hs+jv8DP/jAwAKEBAyFQUYZBetE0cN9gOd+RbvpuUQ3pjaH9xJ4kPtT/zjDGAaVCOdJh4j3Rn6DaMBjPVk6/PistvX1EDPhcscybDK7NA53LXrDf7bEFchKy4zNvU4mjZ4MH4m3BlcDI3/nfU18PXv6fNe+ocB4gcDDPgNhw6SDngPNxFwElISvQ78BlL8kvA15hDe+9oH3cjifewg+YQGPRH7F3wZNRWkCwf/ZfFK40rXIc4fyajJlc781/rjdvDw++EFIQ96FoocqiHXJLYkciK5Hn8YoRGICy4HrgRNBJwGUQkBC3wMlw3ODcIOthAME5kV3BYKFp8ROQpVAUb4+u/86ODjZd9C3SjfJ+TO61H1NP+3BDQFZAID/NnzTuvS5U7i8N7V3RbfjeJa6CHxvfq7AvQICA72EZcTcBSAFUYVORP6EKcOOAsdCPgGWAcaCQgNNBLsFtAaxh3gHgYeTh31HH8adxWBDnMFGvto8gPtDelN5gnlCOSh4/DkLOjx6iXt3u/o8ArvuusK6orpyeku7FnwS/QC9//5H/1a/xUAjQAqAVMB2QJoBrwJtAr9CRcIrwRAAff/FAE0A2oH/g0EFRsc3SJxKOkq1Sk0JjggiBj3EHQK8gPX/dL4IPQa8OTsV+pk6CjnD+cE6HLqQe027yPwX/Cz7qzqWeeL5hzoQ+ue8E73gPw3ALcDVgYZB3UH4QdYB/oF2gUhB+8HFgiwCF8IfwUgAxEDngQACDoOOhYlHS0ieiXsJV4j+R6VGfsTew5WCbMEif/O+TD1svJY8JjtU+yn6/rpL+la633tLu7E7yLxgu4W6R3lruJR4SbkbOtI86D5Tf8sBNUFPQahB4UIAgjsB98J7AoHCh8KEApUCGUGJgd5CVkL+Q67E5EX+xmKHMgd3hyjGjkXaBPND4YMyQiSBPn/RfuP9+D03vGE7uvr/ekn6TfrVe5h8FHxAvIR8K3r4ei56BHrlu7m81T56fsv/Bn8b/y4+xv7lfzF/h0A9AFABq0IEgh/CA8J7geFB2wLmg82EQYUEBh4GU0ZoxrkGp4XqhPnEF4NrQlLCPYGvgJs/eT4sPN47bnoDOYN5Kjjuefy7XjyRvYr+vv65PdT9l/48/n2+0QANgNWAaD9OfwQ+qv2t/X19jj2rfSt9qD58vqw/HEAdAMrBQYK5BC/FSkYVBt3HqweaB8lIVwgFhwGF1ARZAmrAqf/I/0w+DPz8e6y6Zvk2OEv4VPgoOED5+XrLe8C9FT6bf2B/RMAnATmBtcHXQo8CWQCu/zH+kf5u/Zc97P4cfV78U7wN/AW77fwKfYX+9n/xwfPEVkYQBw7Ie4kPCVFJewm8CWwID8bLRZJDpcGTwLw/Ar0AexO53riat5z35Hi+uMt5w3tA/CS8Kr0i/r/+wv8IAHxB1oLvg5+EpoPbgZw/578JPii88XzSPOG7lnqkuoz67fqj+4Q9fv5sv6MB7UQehWtGb8fmCSGJJgkfiUqImQbQxZbEnUL3wWHAyX+/vOA60fmBeBB3DLeauEv5NnpqvBF87X1V/x8AQQBAAIwB94Ktww0EOYRgwyRBCMAWP3e+NT1G/Xt8QHsKulE6t7rLO6W8335h/z7AK8Inw+YE0gYuR8vJNkkOya8Js0hXhm/E6QO1AevAi3/tvc37GLk399h22HZDNyB3xniRefm7WbzXvo3A10IQQnxCygQfxH4ELUQ1AxEBMD9Tvsf+c71RfRA8rnsrOgO6a7r/O1O8cT2Wfs4//sExgy/EsUW/ByUI70mBSfuJwInVCGVG/oXVhLGCWUChvq77vXjqd57277X0NZ52Wjc4N/H5YjtF/br/28H9woXDj4SuhUfF3IX3RPSCsMBsfxR+a/1pvOV8FzqBOU55M3m2uhH7HDxx/Uy+ngA7AfEDakSoRc/HdghASRiJXwlViNtHzocHhnbEkkLLgOc+Izsm+Mn3kbZIdbO1VrXMtk/3RblKO9Y+acBwAdZDVcTnRhwHBYexhrsEnULwAYmA1D/XvwT9zXuH+fe5U7nRedI6QXu5/GD9bf7SAPbCIsNdxNZGaMdcSCZIswixCB+HjocBBrLFVoPZweQ/Bnxv+cI4kLdRNiI1ULV7daB2X/guOol9Kn7WAKpCsgRAxhrHZ8fzRtuFKIPjQygCAAENQFX+6bwtukj6Y3pJugL6ijvt/HN8w366QEEB/AMQBXDGiodeh/OIUog4hyEHFcbtRfWEhUNbASc+K3v9eet4ejaT9cd1c3ROtVi2YzjRvAg/DEIhw/NFBIa0yIZKx8vCCatEcz7dOaW28rbn+R87eHvUvGC8cnxNfTp+64G+A1/EAEOtwc/Am0EihG8IaotGjF5KIwVagHF+PD5k/3h/Fj0suNx0ErHv8pt1arjZvo3Ew4mQzVtQclGITQADDPjC8dVv7DMEuhK/swAw/U78HP2pgPnFNsdwhNK9cDYIdVQ6FALJTIkTE9HHCgtBfPr6+F66WX9CwvFCKX/2fiO+KX+DAspFeMRUAZw9yzrb+TN4pLjGeA228jf9/vxI5FCk001RIAvAQjU1dawt6RisnLPovHZB+wJ0QN0C7EhczEjMSwXH+mquOCj7MLF/kk3LFeTVCA1vwzm9af1R/rG96XyE+yD6dT5nxcnL0YvpB3OCy/9lfn1+7PxqNYAuomwjr4N3E8B/ivqRuxG2Do9LsYoRBGY4G6x6Zitp8XYWRaiPOs1khNN/QX/XQZnBx3w88GHlUaQ4sm+HvhhG3uRZf8znQdF+nYCrQKZ7+HeXt3P7RUSHjNOOFQcRft98+b85gXL/lHcNqyhk8yob9zyCkAjMjQoOgg4wz3oR+1G4hh5yzyTRpCbwf4J0kFhQgUSet782vD7jQ5JAezN2ZMBgMOvxhPWZdR6pVsaLMoK3wpcHnAdbvkRy2vGP/F2KI1NPkFlDVbb3NO4+HMYLw4F28OfCoeNqcTs7Bu8HXYJbBChLk9P62S/Xc8yCuWfo4CYrMC2+Ysl6DKQF7Lxk+BV868DCu+oyZWig5dLtWP3XD1SW11UD0MnOtYwfCf4Embtvs62zcD6pC3mQUY2zw4g6Urcf++yB1cCbOCHugesB7tF4wwHqQ2ZAbEBiSXlSi9XekvUNO4VteKvuF6uPciv8lIbjDGNHVX0JtZQ3RbuYeqn2a67uqoQuR3wjjmJY/hgsUQJKfoUxw0g/gPhK8+82TkNED26Sdo0pgXb4XrihwFTGPAKst+bthWuccWC9EAR3Qfc9GL5xSHPRfFKNjl2JKwLEObBxm68/NHH+MoiNTuzKeAAaeF25NDuyetg2tG90qzLuKDuIi0ATmlKXjTSG6MInQc9ACHok9PX4H4XK0ZAUiE8MA5o5bbg4P8jFzQISNk2sEim3Lur6aUIDQRK8e/3/CF5Rm1M7znhKAsUKvCIzjq9B84k8y4dEzYcJeD7W9sM4p70afbX4xzDa7Eevhz1/DJGTRRBbCjjFqwH1gO++5TsCOM+7mUYdjmDQFoxSRL9+PPxCP6vBIf2xdnGwzvF89Ou6wv7Avrm96z+px4PPNM80iuEHvQaBwFe1BOzuLsd5joYPT1HMV8C1dN30gP1WQOe9HfM36zVs4PoHDF4VoxHMB8OBQD8Tv8IAnL2Rek/6OcDAysyPlc26hg9/TXyKPlmAhL6G+TSyvfFctfp7uABRgLD+/351g+sMVs/+zZVJG8cpgCMzwuxy7ro6pUcDj5HNYcG89jj0xv4AAnE+aLULLObuBDm2Sl9VINHkx3IAg/9OwJYAqnz4OVt5XD/cSgOPhwz6BXX/JX2FQPyC0gB7+Yly8nGCNhz768Atf1V88/zjg6VMdU9ZTM1IA8VWPi+y8m0nsLi8PwgRT7FMmgDBNlO2o78cgoh+RLXA7zKwc7uHyxZTpQ71w4U+YH4C/+5/XjtM+TO66kMVDXJQU0rGAoG+Yb8BQ8OFfEByuDHw0LH590O9JH9svQe7MHzphbCNl08CyyyGKEQAfScySKzJMUh+HwpWkMqMIH//day2zf+Vgda81TPIbgAxZP3ITTUTNkzOgmi+Hb4Kv+aARH0bec36qkNHTsCSSoxbwx89LPxRQR2Eu4FNeKfwafCrNs/9ksDXv4K9Aj8WB5sOzU/HixmF+MF+uEqv+G6zNzvDps0wTuRHdjxEdZ55BP/d/sb41zGfb9+2kkO8DxwRgIndgMx+gz5H/qb8qflqulsAtcoTkDBNeMU4vw79SL+qw+JB+bqgsqyvXXR6utp/Bv+6vSf8mMNqzB2QMA3FiDgDw/4jdMAvDbH0fAZIHE8ci41BwnfNdTu6535IPLK2w3KOdNa+0Us50R8OHgUAAKg/Tj7ePjU6nDjN+9VFbo53T6VJLECnPZm8woAAwtP+gTfH8fxy1LiG/Ik+AT3UvXxAW4kgDxnPnQrFRPs/tjeY8Q5wozeoAkuLhQ2IBhu8QvYzN6Z7Y3rYuEP1YjXqO3yFhs3RjqgJUUPgwouAGz1muuY46TsHgdzL5Y/wSliBrjzv/W++fkAWvof5jHRNMtO3q3umvRw9Un5MQnuI/E7OEFJNm8hDwdS5ObCW7xj1HH8LCUtNZUgqPth4Lnhcuta59jdNtaT2/3yjxhlN/w8PCojFvwP/Qa0+RLrsuCB5Xj57RojM7UrxRGn/eb3iffA9ufxCOcJ2ufTl93e6fjvhPP/+T4NtChaPMA+DzR3JOkKceFiu4G0htSFAWImazJcH5gBL+ty7qbw5uGVz2jJftzY+yUl4zyiOL8hrBK6GAATewAw5pvXpd2M9YwbPzT6LdgS+P79+4n97fh/7+bhm9fo0mrcVOrh7WXylPnpElgxmkJpQDAuQRygAaDcKLm2tPzUngO4KZkxLx1xAQjzrPUW8nXbZcaAwrDZYAIVLb1DxThYHgUPBRZ5FVcCmOXr04LcNvb0F8EqrSQIFKsKXgnIBGD2veSg16rT69cg4D3oPeqn73L+3iCEQxpO4EFMJ6IPheskxYuyxMF77OQVADKPLN0Rw/vx+uUCWvAu0Ii56r6a4skS2j3IRFUvbRbvD3kViBDNARHoEtoL4Bz5VBUeIqIfgBZ4EVcL2gCc7DHautLf05fajeNx6Prsj/VIDWA0zUuSTM04MB/7+ZPK1q2nt07lNg5zKiUu+xsuBg78YQhmBADnMcSsuZfPufhMKBtA2Di1IDMU7BgFFfUGXvQy57nkPe4VBH8UZhgZFbgV8RVVDJ33Tt5ZzqbMNtRJ39Dlm+pz8qkFaSl0RNJJejkOIk4EttWZrZepP9E8CPstczWeHsEDJPjcAhoKZfRI1FO9MMdV6wkZjDffNFwhchMNFloWVQzp/VfuZOmJ8Nj/eQuzDPsN6RNnF5YQu/+j6KLTNsxe03beZOVc6Gf1eQryJ6lBkklaPlwiogK91rSyzqshziIFbCyiOZoktAcX+LAAFwkx977ZvMaN0f3vsxdfM6UxGR6/D/ATlxbxDNX9L/Ni8XD1CwERCkwJ0QRbCHIQ8Qxg+6XmjtgP0kDUgd2F5XvoAvAdCIUsHUVeSWM6OB+9+bHM0rFltq/ZdgVWJVou6x++DNQAVwPaAPbs8tU9zKPcpvxCHTgvsiwXHXUTchZaFDwKsPoi9dD8dgSGCaMIIQZvBiYLRg3rBf7y6Nsz00jWPN7j5Irma+xr9qwLgCxLQ6pHRja+GOjwI8UxsGq/3uzqFKkq5SSFER4F7wK3CtP+DORgzPzLJeaeCsYnHS2yIloUnhOBGnMUMQcV99DzSv7MCU8QDQxQB7wFMwxrC/79HucBz1DJudAN3w/sRfKx9zkE2Bv8Mg8+YDmRKLgMrN4YuMayENQUBpMpszJjH40Gb/p/A5EJWPcv25LHy9L09Csd5jPULoIZAQtYEWgWfBPQAtXyiPSOAVwR6hLiChIF+Af7CyUHYPcV29fDQL5Uyr3gau/c+EQC2xPlLFA6pTnrJxkQpu0fxiK1xsVi8+MdJzWjL+4WogFr+3IDjPyD5xHTF8pI3ysIZS6xN0EooBvMGJ8TXQGr+v36zQJKEpoZ3RbRABr1EQIFFzYZLAeD6nHHxLccvaHVpOvg8z8BPhk/MFo5ZjdYKP8TpPPWzde4kr6x4aAQPzMrNvsknAz7AosGV/0q6bXTB83+3ZP9Zh13MBUsSBpmEYgQXAswBDL5b/iCAncNTRjPFAYIwQGNBykM1gZd9AHbksllv1vGEd128Jr+bAyPIJ4z2ziYLnYdhv/60ii167iB3YgJpieyMZ0n2xVlDfURigv48+3c7dN43w71Rg5qINUiTxzAGZQaZhGwB7X9L/md/GUFIxL8FJQOvgn5DBwNbAZM+G3i4M/qwxXCw89D43r7ghSGJwYwVysYHyYSaAFp3Fi5nLNj0nEEDScwLxIi9g4+BmQO0g5a/YvpkNxl5Cz4UxCOH5cZJQqPCh8axhyrFPcEB/6IAHYGNxHOEzELagWWDIARRgy6/LroAthwy7jGCNFk4Bv2rBStLms6izLvHzULj/WJ1iO+8b0C1r0A8iGyLHEijA+6BAYHygY++MvqQ+XB8X0GvBV4HBQUAwQbAMwMPBU9FOMIxwCpAygITQ/SEdIJYgGeAlcG1wbZ/Prp2NqCz0zKrs5723rxwBCWLFM5/DXKIwsMlO69yiW1ALww3AoFwyNcKqgdLQtrAnYJxQUf9CHk5+MR95MQOCRJJr0W+v+K/H8KVxNkEuMHfwFgBbgPdxl4GGoKR/5b/2YDtQOt+/7r49yD0lLPPdby3zbuRAhKJHI3GjlxKZ4OtuzBxRSxcb2r3n0FnB+oJoYehg4bBToHGwH07xPjuuXq95YQ4CJrJikarQQlAJQHIgwfDKEGKwWUCBIPPRWAFggN/AMeA7EBOwDy+JHqC9yf0cbPE9hx4sHxnwuKJIs0IjYmKIwOnOniv2es5LwY5PEMViLQIQ4YPgzBCFILCgDu6uDbz+Hn+kUYcSg0JpgW2wM/A3kI+AgNBRMA3gPuDBMW/hf5EZ4G1AE2BeEEyQAW9RHlb9lN0kLTT9qM5Mz2ixAkJ8UxmjC+IlQKHORRue6oFL6D6uETvCVEIMgRogbvB6cMvwCU6VvaWeLg/QocVirYJDYTNQSXBnoLbwmgAcn7FgHNDesZQxyNFLEHHALsBEwFMwDM8U7f29SX0mfXKOAT7JgA/Bm5KrstzSe4FlH8Ldfys1Gtzsc49FEapiYyG/4M1QMxBREGKvja5STdhOqrB+Ii8SdjHRwMcgHhBlYKAgluAO76ZwKJEd0aNBizDkkFLAV0B98Fkf/b72Xe/9VU1VTbqePR8fwMiSjDM+QuNyBYCxnuGsgMr8+2Gtm3A5IhaiTPFtEI0AT/CGMCPPHD4oniwPV2FNgqSykPF4oDNwG2CM4J4wVz/X/76wafFpYdBBPlAfT7aAO7CY8Hqf7C7G3c6dN/1kfgA+ly+S4UhCyaM3IrfRkTAG/dqLo4sFrDredECyUgSh8KFKoKuQnQCL35xuhl4fPr2wM/H2YswyNfEEgBVQMMB7oG9QF2/IAAVw5YHaMdcg0d/Hb5fAALBWsERvwj7aTfoNmx3pPmcO+gBNAeYy5cKoEcDAum76rKArG3uWzYF/upESQVPA7TBegJQRHYB+jvKN7e4H71kROvKZgqNRXa/cH6TQIsBZ0A0/q3+zUGhxeXIboXAP9o8XX2Rv7s/wv6MfK46U/kiecD8B71T/60EYEi0yVKGwUNL/kR2tC+Br8h2HX2vAttD58IpAB4A5cQcxD1/bXpq+VV9L4OKiciLqcfMQZX+wj+jQCs/3j8zf4FB3EV5SJsIL4LTPYp8WL0yPZ49KzwSfDZ7jjz/fpfAV4IehFIGcMWGA0nA3z5dOSYynLE+te29rYL6gxtAM/yp/J7BOQQOgim9E3q6fLfCaAjPy+VJKkJcfnX+oP+rf7t+qH6iAEwELAifCeDFV781u+w71Lxd/Dh7FPrHe5w90wGaQ/KFUobfBqTEUQDvvq98QbhtM5kzebh/fwKERUPyf316pTop/rVCAYGPfi08U75bgwyIp8s9iPlC5P8gfwP/0f9vfeI9sT75QgLG2skgRlQAwv1TO+k7MXo3OQu5YjpqPX2B1YXQyJ3KZkmBhbG/lbvK+jT3tvQ7M6C4bX9+xUFGZkI6u+u4oPtcP6MBKb8E/az+rELeyKrL0UrbxPj/6L8LgEZAy78C/dp+D0DqxVgIyofMAxy/A70ve485xXfkN3v4d3vtQYJHMot1ThCNakeKf4z57DcL9N1xxzMqebgBxkfUB2NCJLtbt9O6cL44/tG9GPxs/tTEA4mLTBNKIoQgP5m/YYCewMv+6L0/vY5AlYTYR1JGL4JJ/+q+on0jegh2ivVt9wK8HYK2iBVN0lFKD/QI2z/sOYe1dfGeMA60SPyqRFDJXIeXgdf7OLiU+0v9NHx0e019MUDOxkHK1kuHiGzCj4BygL5BHMDkfzO93z5UgO0D5wT9gulA0UBP/7r9Nnka9XW0BzaXvBgCqEhpzm+SJJBXSN6/jTiA8yGvH++Zdj0+qUXkCNqGEMAc+n65Qzu3O2N6OrphfeKCv4dkiq2KD0Y8wXEAnYFewaVBTkCQQBgAMUFNwyRCsQC9v7mAPf+BPaw58jZO9XD3KHyoA3BJ7ZAG0tdPpccq/kT32XJ/r0OxV7ifQOoG7EgsRHE+lHo2ec661PoOuWW65j9HBErIfYlPB5iDX0AOQB6AksF/AYkCE0IiwYwBm4DH/259uf3dvtU+Nfwi+Wr3dXb4OTc+bUSGC9mRKpHjTFvD0/zIdw2y7DEMtTP8QgPPCFTHqwLdfM36Wjra+tm53nnxvOyB8AceSdoI3MTMQQ0AEQBuwLgBYYKkQ1ED14OXQkF/o/xI++89Iz2dfB350rgZt/g5Tf0RQdcHeA0vkLeOWoazflX4H7OPMfl0D3qEwSmFs0anhEi/Rrt8ek35zLhRt8M7N4BrRfAJCckfhVgAmr8Yv/1AOQAcQWsDZITIRa9EhwH0PQj6kDuZ/QU8TLn3t984Gbo+fWoBhQZ0SwXPI48niSAAkrlw9HAyRnQjuZAAcIWhB3xFrkFjvK46rDmmeHp3pvnUfsyEmIjzCbtG9UF7fbj9mD8xQFdBe4KfxKDGPkYbg9N/d7r++dN7Vfv5uri4bDeQuSM8kMGnxqlLsA6sDkyJUsGT+nZ0lHJh87d4/n+5BYKIkwc4wvf99XtBumc4mje4+RK+AYQHSRDKu0gaAo69YDwufVo/qkGKQ4KFlgbgxs8E7sDwfH+6Hfr1+wC6qLi4uD+533zFQRTF/gt3juOOmwmGAbh51bQQsiIzaLfCfjwDy8hAyHGEkb9++0a5rXg0t+g5rr3ywv3HlkoZCJjDl/1WelU6x72WQIgDXcWhRtJHGIUXQb19A7oeuZX54DnlON+4g7q0vXzBF4W0C3zPcY8TSgvCEvqp896w3rJht5h+CIQxiGiI0oXcgP49fDs/uIk3vXkzvcQD1Yl0y8yJ8YNcvP257Houu8U+tkG0hSwH6QjWxvHCE7ziOUE5KrlY+U+4cTgg+lV+LoJ4RsjMC48ZDgyI/0ExuZxy9G+qcU03CL1Agw+HeYhjRlvCHb6hO0O4djbmOT0+BURsChANDgs7BFL9UbmKuM/6TL1TgQeEwYf0iX5H3sOW/ha6UDk4+Fc4IPeHeKY7oYB+xSaJoI4vEAPOGAeVf9F45PKkb6fxoHeufYQC8sayyD0GQoL9f2779fgmtth50j9ehMCKeo18C9cFSL35eU44azlpO8O/m0MOhqZJAEidBEW+QvnmN5v22faZNsy40Xx1AUgG+wxsEXASGw1URId8aLVc8ISvsXNIeeQ+/ILyBZkGo4UBgzhAW7w4N7W3CnvpQY5HIwuMTfgLDETGPsK6+nhvOGL7Hb9Zg1IGxMjbR3ECkf18+aE3pbZRNcM2rjkTfclD+soUEJWUk1LHCnE/YjbxcZHvnzE4djp7qj/lwsTE2wSfwuaBSX8yeuy3bXiOPmjEXElPjIJNDckkwsL9/jp5+Mp5jbyoAFND8YYTRvFEnYB8PDe5dneydhG18Tdte1CBKsePjzqU1BZVEHRFEjpac2ZwjjFk9Rr6Hj5ZgUxDkESdQ2MBW3+EfWj6FLkLfEhCVMgOy9yNKIrUhetAZPyf+oD6Y3vovtOCGMR1BSgDzECCvP952bgFtqv1ojbFegY++ISQTCiTbZbwE56JlP2qM/1vt7DL9Zy6jz2OP1gAgcJ8gplBlD9mfDM53HmS/O1BogbyisJMrQsqRtbCkT6v++a6Qru5vsvC+AWWhdGDXj6bOtM5Ibhr9tn1a3YqObH+r8QiixPSY1ZhlByL6AC/NfXvbq+A9fy8fEADAJ+/qD7Wvzh/pT8CvFK4jjiZPFzCVof8y2QMcgn3xcICDz73e5g6iPwKP5aDuQYLBkeC1v1UeRr3oHcpteA0h3WZuby/WEVjy5RRy9W3E/AMI8FitucwWbABtnp+F4LDQxsAZn5q/bO9971uuuI30XfEfMAEDMpZzTFMiYoqhceB5D40+4x7BL0bwNfFGIenxvWDDb4KOY521fWc9EozkLTK+cmAhob9jAdRjdTFkz0L8cGL92gvh28EtZ5+RUQIhJnB4n5UvIo8i/xE+Ua1mvXBe79D8IsNTs7Nl0kxxArA7n4v+0J6e/ujABFFfcjrSEtDszzm98l2G/U0M8ey8PRp+ecBfQhsjjuSZNPG0YUK64DjtgMu2i8VdtRAaQXohjlChj9i/Ze9tvwhd9ozjrQY+wsEyA0kkDlN0sjqA4/A+X5y+8253/saADRGdApJSRkDMPtGdrf0jXQHcq1x2PTvOzoC/8nHUBHTWtMGzvtG5vy5MlNttTBD+ULCBkbIBgrC9gBfP+X/LTsKdZLxnTOmu0QGAA4dT52MhwfchLVBrL7qe5Q5yTuqgQUIegrcyDQAx7rx9y61qrQ+sj8yM/X5/aNGAI3mElpT/FG+jEoETvnb8VGuejLfuxwDLAb4BefDVkIvwszBA3wHtWUx2bQPu6SFyEytTRGJMgXGhGZC9ABNPTg6zTuVgPoGsEkGRfX/eDo4NvQ1pnQkczXzs3fYfwpHbM63UkSTDg/sSnKCHXi4cT8vYPQA+x6BjkRSBFsDZYQzRZfEAP87d8V0WDWDPLwEQ8jGiBFE5EObhAtFXYQpQMH9g703AGLEU0WBgmI9B/jRdzk23bchN274ZruUgNfH9w3XkOYQNozWSAfBcDoldQEzjrTKuO+9Kn/ZwIDBbkNEhQhE3MIYfkR7LDqAPh+BhIKEgLs+Qr4Qv3OBt0OQw5oCdMHRA2bEsINFQF17rXgXdtP3t/lQOyG8+X7dwgtGBolsykzJlkdixLvBf/5ePJ67sXuaPN4+9T/tP0o+Sf26vU69gj4k/qT/GwCZwvAEV4RJQnN/2332/Lu9Dr5Iv4HAxMLABU9GWAV+Qpd/rrz4u7A7+fyWfXu91f+dQbiDlUURBQhEMEJTgTv//b7Qffd8wf03/iq/zwCYwBs+x32JPOI8xX3T/qS/WcDjgriDq0N9gjGAbX5D/Ri9JL38/qWAAUIjQ8dEjYPPgiH/sT1efK19PH3SfkJ+1L/GgVnCiINtQ0CCwkIogY7BpIFlgKL//b9Qv/2AG3/Hvs/9dnw2/Ac9B/6pgCUBQ0LUQ57EKgNqgWu/6/5VPXY8UDygPiDAA8GDAmUCDQDUf3G9bTxUvCM8Q32R/v5AoEJfg5YEJ0PLgu/BfABkQCJAaEApwAmAWMFrwlxCp0HbAFM+wT1qvTr9xv9YwD5AmcGygfiBvgAGPnO7/7qBetZ8On1Rfr8AXwJcRE7FMoR1ApnAmL8Hvmo9wn2yvja/sYGLQ5eEQIRDA82DDAMlQ3xC6QIwgNMBOUHlQmLBpz9+fQN7NzmSeQ443TlgOvh9Cj99AERBIEGzQZVBbUCUgJQBGUE8gDw+6r6lPz2AKIEBQTaAH//nwO3C/QSmxf/FmsSJA+7Dz4ScQ5vBQr9Qvh49uzzhvJC8GPtwe4i9D75GPpo+cj7Zf7M/tYDxgsnDRcDGvTE6xHqae3+9Oz7a/3b/0MLqxluIuggjRkeD3kEQQMfBxsIJQRDAWAFjwvzD0kQRQot/j30UfAd7uLoZOW86I7tYvUQAZUMHQ8/CewF4ATu/Obu8OWF45Xna/HN/lkIvQdKBuoL1RNlFUcS2g1RCUUGAgjqDIgMtwZmAGP/VQGmAz4EAQD2+bv20/hG+vL4p/YS9qT3pvmh/XcAkP7V+rP65f6MA8oCi/8A/Tf7Ev5ZAQcBl/01+pD8XQLOBegG+AVAA28CYAVXCpkL/gh7B1MHyAbvAxsBN/029xvzcPPZ9yj7kfv//AIACwHg/hv83fqr+Kr1AvZL+jr9JP2f/Ej/PgSdB28JOwiQBF8BQgExAqkB6f+J/hj/LQHgA7kF3ASxAlYCrQKQA78DjwJyAbj+8v2L/oP9Nvyq+lL6EPoR+j78wv4f/j/+t/8/ANL+sPwb/7kCFQQGBaIHagfLAgP/h/+cAZf/qv29/wIBfQAzAawE3AZDAxH/TP6X/RT65fYn90P5Lfrl/OYB5QOSArf/VQDAABL/+/7W/Xr8Pvm6+HD8xf5l/2v/qwBbATAC1wJmBEAGmQZ1BhkFawOvALT9Hvva+nz76PtL/noAXwLyAW8BdwJYAZv9mviN9sr1b/VA94X7DQBfAvgCrAMyBM4Abf5F/eb7jvu2+1r+ugEgA68E6AajBn4FVwOUAbUALv8X/sn+n/87AL//B/3B/BT8a/pG+WH5jPql+oX7jf7rAdoBQQFkANr+0/pu9933Zfjt+Zj7MwAdBBAGVwhGCrsKoQj5BgUF9wFRAFsB1gGpAMr+Wv/t/mH9b/3W/eD9Mv3r/scAfQCY/kv+G/1S+wz6Avli+Dn3rfjZ+mn9FP/FAdcDSwNJA1gDQwP4AJr/ov+l/0H/A/+oAK8AMAAyACP/3f3J/KP8qf2L/uj/2QGXAnYCGwHh/vD9f/xD++/5oPgq+W/6+ftM+637E/xj/L/8Zv0SAKMAlAEBA+UEwQRgA3wCPQK5AFX+fv0E/Af8yfq9/BD/ygB4AX4BmQKHASMA9f1d/nH9Ff2l/Pf9j/7i/jr/m/5U/mD8nP3J/Tf/+P89AtkDvQPeA8YD2AKB/279/Ptk/P36ePoG+zr8KP0//ID8sfwF/CP6ZvkD+o/7S/tu/HD+rf/5/8n+YwBiAD/+oPp1++D8Uf7//5UC2gU0Bf8EEwWeBQ8CQv+D/Ej9x/0+/er9Dv7g//3////a/h/9Mvom+Kn2CPjk+Dn6sPtE/Yf/hgCAAc0AqwAIAEAAzQBdAYICqQP7BD0GmAZwBnAFawPlAR0A2f4J/3r/4f/s/lD/bP///jD+2fxg+2v5z/hL+WH5q/hE+eb5jvum+kT5aviM9+73Zvom/af+BQC3AcwE6gUDBaYDTgN2AsoBpQHJAR4BBQDkAOwCkQP1AF/+fPyA+wD7i/uw/Cn8R/vl+0b+K/9w/pP8dvsM+mf58/gQ+oL7UvyW/tAAqAOEA5oCjQGVAWsArP+cAOUBOQK0AfYCWwMyArL/Sf84/sn7PPpZ+s/8rf17/oX/kwDF/7T9Gv1K/Mf6u/hN+UD6vfr++cH7qP6U/6n/U/9UAKn/jP9gACsCCQIOAjUDVARIBJEBSQBg/yn+TPz6+y38Qfy0/Kz+MgG6AO7/z/+C/6j9MPzT+x/8Cvwg/BH+xv5b/mf+rQC1AYEBBQLoA/kEbASUBMAFPgaJA9wCfQJKAuj/UP4O/3z/S/7b/eP/HADy/i39S/4m/r38WfvO/Kn9yvxF/MD9/f+1/h396PzV/WP9Bf1+/TX/PQDsAIkCBATcAw8CNAG2ASMCPQGBAL4AXwAtAJUAagEYAWr/jf1B/Wf9df0s/Y78a/yI/D3+Ov+p/sv8J/xz/IH8VPwp/fT9cv6r/xEBtwKrAukBPAGkAaEBpQBuALcBGgOvAoYChwMVBPcBYgBQAH8Alv83/mX/7/8N//79Bv/l/2L+Pfxz+yL8W/s8+jz6iftG/OP8+P1y/0n/Df5h/k7/MgCG/5X/AABOACkBZwIzA1ICDQEOAbUB8QHDAc4BugJGA84DSgRMBJUDHgFy/zr/q/++/qv9T/6o/iv//v9IAgMCGwDc/oIAuAAd/i38Dv3M/4oAOQE5AUkCbwFdAasCTgSZAz8CFgILA6MDRgNpBMAEWQQqA2wEvQTaA5ECRQP0A8EC8gGrAVQBRf/9/d79sP0I/dH88Pya/IT8Jv0Y/n3+Qv7o/R3+4f7C/0kA5v/9/xoAvQB9AHQAGADx/3QA9QC2AQcCGAOJA40EwQRSBYoE4ANJAzID1wKCAYYB0QCJAED/kP98/yn/Qv7I/cj9df1I/Rf9nP01/vX+X/7d/hz/BwCLAKQAswARAAIAUgCCAewB6AFNAdsAXwH0ASkCxQGuAUQCFwNoAw0E9QPBAwgDzwGXATMBSwCM/j7+z/7S/jT+t/5r/3v/lv52/j3/uP4j/pr9fv6G/pP+o/5y/y0AQQAeAcQB1QF9AZwBdQHWAVUCCwPLArICXAMyBEMEYgM+A1MDjQNMAzUDQAPaAiYCmgGwAZIBvgA9/5v+bv6p/q7+M//p/ycAawCjAKIBkgFEAeMA+ADbAHsAOACVAPUArgE+AjACRALtAfIBYAFZAaMB9gDd/1T/5P+PAJUApwCLAGEALAC8AC8BBgGvANn/m/+8/+b/6/9I/6n+sf7p/kT/b//1/0QAPwA1AN8A5gHXAU0B9wDOANEA1wDYAFwBZgFNARcBjQH/AYAB5gCfALIALwCo//T/SwDt/6r/z/9gAGEAjwCCAIwAQwCH/zz/E/+U/2//Nf/L/pb+sv7c/pf/8P+n/y7/Uv+M/53/Wf+6/u3+I/8f/wP/If9N/zr/RP85ANoAQQDn/8T/9f+0/4H/uP+O/zP/kv8KAEsAAAApALoADQE2ASEBGgHFAD8BSQEbAd4AngCdAI0AUwAVAAAACwARAEEACQEiAd8AXQCVAMEAXQBvAHkAxQClAKMAUQHDAY4BWwGOAd8BZAHQAAoBBgGgACUAYQAvACoAWQB2AHsAQgBsAIAAJwDw/xAAxP/G/33/GgHfAXsBmgFWAXsBPQFbATUBOgESASUBRQEBAdwA5gASARAB/QDIAMgA6ADiALAAqQCnAHAAdQCEAHYAYQBkAHgAXgBpAF0ASQBPAH8AmQCJAMcAzgC6ALIApgCzAK4A1ACvAHMArwCtAMQA6gAUAUgBNQEbAQwBJgFJAVUBRgFcAWsBVAFJAW8BWwExATABEQH3AOoA5QDgAAIBEgESAS4B/QDpAO0A/wAxASYBHwEGAQIBBQHtAMYAoACNAHIARQBOAE4AHgAZAO3/1f+9/7z/y/+b/7D/qv+a/6L/q/+v/33/bP9q/1P/M/8T/wD/Bv8d/xH/Av8s/0v/fv+J/1//cP+Z/8n/zP/c/xAANQBbAGkAdQCDAGYAZACNAKkAnwCYALcAugDEAOoAAAEPAf4A+gAIASoBUwFOAUwBRQEaARIBKQEqARMB7gDpANYA2wDwAAAB9ADKAAMBMwE9ASwBBgHRAKgAsgCyAKcAbQAyACYABwDp/9//ov9+/5L/s//X/+//+f/t/w4AHQD9/yoARwBdAGIAUABEACYAPAA4AEUAZQBtAHoAbwCKAJ4AmwDQABgBZwGKAX4BhAGBAYEBqQG6AdYBzQGUAYABkwGlAW0BcAFpAUEBSAE8AU4BSwFIASYB/gAaAQAB1wCzAKkAtACsAJwAcwBsAF4ATQA/AP3/DgAqAN//z//W/8b/nv9t/2z/I/8d/zT/Ef8H//D+8P6r/p7+4v65/p/+k/5//mz+hP7E/qP+e/6p/un++f7+/uj+v/6y/tL+Hv9Q/2//iP97/4T/vP/W/9j/9v8kADQANABGAF8AhQCbAGkANQBJAHYAeABkAGMAYQA2ADwATAAlAAoACwAAAPX/CADj/9z/vP99/2f/Pv9B/zX/+v7z/sv+p/7C/uD+5v7k/gn///7//vj+Av86/zv/P/8l/xD/NP8t/xr///4B/xz/Jv8n/1r/oP+S/6f/t/+R/5P/5//1//L/7v/b/+z/1/+i/1X/\" type=\"audio/wav\" />\n",
       "                    Your browser does not support the audio element.\n",
       "                </audio>\n",
       "              "
      ],
      "text/plain": [
       "<IPython.lib.display.Audio object>"
      ]
     },
     "execution_count": 10,
     "metadata": {},
     "output_type": "execute_result"
    }
   ],
   "source": [
    "samples = librosa.resample(samples, sample_rate, 8000)\n",
    "ipd.Audio(samples, rate=8000)"
   ]
  },
  {
   "cell_type": "code",
   "execution_count": 11,
   "id": "6e30b300",
   "metadata": {},
   "outputs": [],
   "source": [
    "labels=os.listdir(train_audio_path)"
   ]
  },
  {
   "cell_type": "code",
   "execution_count": 12,
   "id": "1ec595b3",
   "metadata": {},
   "outputs": [
    {
     "data": {
      "image/png": "[encoded data removed]",
      "text/plain": [
       "<Figure size 2160x360 with 1 Axes>"
      ]
     },
     "metadata": {
      "needs_background": "light"
     },
     "output_type": "display_data"
    }
   ],
   "source": [
    "no_of_recordings=[]\n",
    "for label in labels:\n",
    "    waves = [f for f in os.listdir(train_audio_path + '/'+ label) if f.endswith('.wav')]\n",
    "    no_of_recordings.append(len(waves))\n",
    "    \n",
    "#plot\n",
    "plt.figure(figsize=(30,5))\n",
    "index = np.arange(len(labels))\n",
    "plt.bar(index, no_of_recordings)\n",
    "plt.xlabel('Commands', fontsize=12)\n",
    "plt.ylabel('No of recordings', fontsize=12)\n",
    "plt.xticks(index, labels, fontsize=15, rotation=60)\n",
    "plt.title('No. of recordings for each command')\n",
    "plt.show()"
   ]
  },
  {
   "cell_type": "code",
   "execution_count": 13,
   "id": "2c22479c",
   "metadata": {},
   "outputs": [],
   "source": [
    "labels=['অনুসন্ধান',\n",
    " 'আজি',\n",
    " 'আবৃতি',\n",
    " 'আৰু',\n",
    " 'ইউটুব',\n",
    " 'এটা',\n",
    " 'এতিয়া',\n",
    " 'কত',\n",
    " 'কবিতা',\n",
    " 'কি',\n",
    " 'কিমান',\n",
    " 'কেইটা',\n",
    " 'কোন',\n",
    " 'কোৱা',\n",
    " 'কৌতুক',\n",
    " 'ক্ৰম',\n",
    " 'কৰা',\n",
    " 'খোলা',\n",
    " 'গুৱাহাটী',\n",
    " 'তাৰিখ',\n",
    " 'তুমাৰ',\n",
    " 'দাওনলোদ',\n",
    " 'দিয়া',\n",
    " 'নাম',\n",
    " 'নৰেন্দ্ৰ মোদী',\n",
    " 'পি দি এফ',\n",
    " 'পৰিচয়',\n",
    " 'বজোৱা',\n",
    " 'বাজে',\n",
    " 'বিশ্ব বিদ্যালয়',\n",
    " 'বিহু',\n",
    " 'ভূপেন',\n",
    " 'সংগীত',\n",
    " 'হাজৰিকা',\n",
    " 'হাতী',\n",
    " 'ৰং ঘৰ']\n"
   ]
  },
  {
   "cell_type": "code",
   "execution_count": 14,
   "id": "adc2754e",
   "metadata": {},
   "outputs": [
    {
     "data": {
      "text/plain": [
       "(array([  1.,   0., 272.,   1.,   0.,   0.,   0.,   0.,   0.,   1.]),\n",
       " array([0.5874375 , 0.76975625, 0.952075  , 1.13439375, 1.3167125 ,\n",
       "        1.49903125, 1.68135   , 1.86366875, 2.0459875 , 2.22830625,\n",
       "        2.410625  ]),\n",
       " <BarContainer object of 10 artists>)"
      ]
     },
     "execution_count": 14,
     "metadata": {},
     "output_type": "execute_result"
    },
    {
     "data": {
      "image/png": "[encoded data removed]",
      "text/plain": [
       "<Figure size 432x288 with 1 Axes>"
      ]
     },
     "metadata": {
      "needs_background": "light"
     },
     "output_type": "display_data"
    }
   ],
   "source": [
    "duration_of_recordings=[]\n",
    "for label in labels:\n",
    "    waves = [f for f in os.listdir(train_audio_path + '/'+ label) if f.endswith('.wav')]\n",
    "    for wav in waves:\n",
    "        sample_rate, samples = wavfile.read(train_audio_path + '/' + label + '/' + wav)\n",
    "        duration_of_recordings.append(float(len(samples)/sample_rate))\n",
    "    \n",
    "plt.hist(np.array(duration_of_recordings))"
   ]
  },
  {
   "cell_type": "code",
   "execution_count": 15,
   "id": "70dfbfa0",
   "metadata": {},
   "outputs": [
    {
     "name": "stdout",
     "output_type": "stream",
     "text": [
      "অনুসন্ধান\n",
      "আজি\n",
      "আবৃতি\n",
      "আৰু\n",
      "ইউটুব\n",
      "এটা\n",
      "এতিয়া\n",
      "কত\n",
      "কবিতা\n",
      "কি\n",
      "কিমান\n",
      "কেইটা\n",
      "কোন\n",
      "কোৱা\n",
      "কৌতুক\n",
      "ক্ৰম\n",
      "কৰা\n",
      "খোলা\n",
      "গুৱাহাটী\n",
      "তাৰিখ\n",
      "তুমাৰ\n",
      "দাওনলোদ\n",
      "দিয়া\n",
      "নাম\n",
      "নৰেন্দ্ৰ মোদী\n",
      "পি দি এফ\n",
      "পৰিচয়\n",
      "বজোৱা\n",
      "বাজে\n",
      "বিশ্ব বিদ্যালয়\n",
      "বিহু\n",
      "ভূপেন\n",
      "সংগীত\n",
      "হাজৰিকা\n",
      "হাতী\n",
      "ৰং ঘৰ\n"
     ]
    }
   ],
   "source": [
    "train_audio_path = './input/dataset/train/audio'\n",
    "\n",
    "all_wave = []\n",
    "all_label = []\n",
    "for label in labels:\n",
    "    print(label)\n",
    "    waves = [f for f in os.listdir(train_audio_path + '/'+ label) if f.endswith('.wav')]\n",
    "    for wav in waves:\n",
    "        samples, sample_rate = librosa.load(train_audio_path + '/' + label + '/' + wav, sr = 16000)\n",
    "        samples = librosa.resample(samples, sample_rate, 8000)\n",
    "        if(len(samples)== 8000) : \n",
    "            all_wave.append(samples)\n",
    "            all_label.append(label)"
   ]
  },
  {
   "cell_type": "code",
   "execution_count": 16,
   "id": "1f7239e0",
   "metadata": {},
   "outputs": [],
   "source": [
    "waves = [f for f in os.listdir(train_audio_path + '/'+ label) if f.endswith('.wav')]"
   ]
  },
  {
   "cell_type": "code",
   "execution_count": 17,
   "id": "5278fc4d",
   "metadata": {},
   "outputs": [
    {
     "data": {
      "text/plain": [
       "['অনুসন্ধান',\n",
       " 'অনুসন্ধান',\n",
       " 'অনুসন্ধান',\n",
       " 'অনুসন্ধান',\n",
       " 'অনুসন্ধান',\n",
       " 'অনুসন্ধান',\n",
       " 'আজি',\n",
       " 'আজি',\n",
       " 'আজি',\n",
       " 'আজি',\n",
       " 'আজি',\n",
       " 'আবৃতি',\n",
       " 'আবৃতি',\n",
       " 'আবৃতি',\n",
       " 'আবৃতি',\n",
       " 'আবৃতি',\n",
       " 'আবৃতি',\n",
       " 'আৰু',\n",
       " 'আৰু',\n",
       " 'আৰু',\n",
       " 'আৰু',\n",
       " 'আৰু',\n",
       " 'আৰু',\n",
       " 'ইউটুব',\n",
       " 'ইউটুব',\n",
       " 'ইউটুব',\n",
       " 'ইউটুব',\n",
       " 'ইউটুব',\n",
       " 'ইউটুব',\n",
       " 'এটা',\n",
       " 'এটা',\n",
       " 'এটা',\n",
       " 'এটা',\n",
       " 'এটা',\n",
       " 'এটা',\n",
       " 'এটা',\n",
       " 'এটা',\n",
       " 'এটা',\n",
       " 'এটা',\n",
       " 'এটা',\n",
       " 'এটা',\n",
       " 'এতিয়া',\n",
       " 'এতিয়া',\n",
       " 'এতিয়া',\n",
       " 'এতিয়া',\n",
       " 'এতিয়া',\n",
       " 'এতিয়া',\n",
       " 'কত',\n",
       " 'কত',\n",
       " 'কত',\n",
       " 'কত',\n",
       " 'কত',\n",
       " 'কত',\n",
       " 'কবিতা',\n",
       " 'কবিতা',\n",
       " 'কবিতা',\n",
       " 'কবিতা',\n",
       " 'কবিতা',\n",
       " 'কবিতা',\n",
       " 'কি',\n",
       " 'কি',\n",
       " 'কি',\n",
       " 'কি',\n",
       " 'কি',\n",
       " 'কি',\n",
       " 'কি',\n",
       " 'কি',\n",
       " 'কি',\n",
       " 'কি',\n",
       " 'কি',\n",
       " 'কি',\n",
       " 'কি',\n",
       " 'কি',\n",
       " 'কি',\n",
       " 'কি',\n",
       " 'কি',\n",
       " 'কিমান',\n",
       " 'কিমান',\n",
       " 'কিমান',\n",
       " 'কিমান',\n",
       " 'কিমান',\n",
       " 'কিমান',\n",
       " 'কেইটা',\n",
       " 'কেইটা',\n",
       " 'কেইটা',\n",
       " 'কেইটা',\n",
       " 'কেইটা',\n",
       " 'কেইটা',\n",
       " 'কোন',\n",
       " 'কোন',\n",
       " 'কোন',\n",
       " 'কোন',\n",
       " 'কোন',\n",
       " 'কোন',\n",
       " 'কোন',\n",
       " 'কোন',\n",
       " 'কোন',\n",
       " 'কোন',\n",
       " 'কোন',\n",
       " 'কোন',\n",
       " 'কোৱা',\n",
       " 'কোৱা',\n",
       " 'কোৱা',\n",
       " 'কোৱা',\n",
       " 'কোৱা',\n",
       " 'কোৱা',\n",
       " 'কৌতুক',\n",
       " 'কৌতুক',\n",
       " 'কৌতুক',\n",
       " 'কৌতুক',\n",
       " 'কৌতুক',\n",
       " 'কৌতুক',\n",
       " 'ক্ৰম',\n",
       " 'ক্ৰম',\n",
       " 'ক্ৰম',\n",
       " 'ক্ৰম',\n",
       " 'ক্ৰম',\n",
       " 'ক্ৰম',\n",
       " 'ক্ৰম',\n",
       " 'ক্ৰম',\n",
       " 'ক্ৰম',\n",
       " 'ক্ৰম',\n",
       " 'ক্ৰম',\n",
       " 'ক্ৰম',\n",
       " 'কৰা',\n",
       " 'কৰা',\n",
       " 'কৰা',\n",
       " 'কৰা',\n",
       " 'কৰা',\n",
       " 'কৰা',\n",
       " 'কৰা',\n",
       " 'কৰা',\n",
       " 'কৰা',\n",
       " 'কৰা',\n",
       " 'কৰা',\n",
       " 'কৰা',\n",
       " 'কৰা',\n",
       " 'কৰা',\n",
       " 'কৰা',\n",
       " 'কৰা',\n",
       " 'কৰা',\n",
       " 'খোলা',\n",
       " 'খোলা',\n",
       " 'খোলা',\n",
       " 'খোলা',\n",
       " 'খোলা',\n",
       " 'খোলা',\n",
       " 'খোলা',\n",
       " 'খোলা',\n",
       " 'খোলা',\n",
       " 'খোলা',\n",
       " 'খোলা',\n",
       " 'খোলা',\n",
       " 'খোলা',\n",
       " 'খোলা',\n",
       " 'খোলা',\n",
       " 'খোলা',\n",
       " 'খোলা',\n",
       " 'খোলা',\n",
       " 'গুৱাহাটী',\n",
       " 'গুৱাহাটী',\n",
       " 'গুৱাহাটী',\n",
       " 'গুৱাহাটী',\n",
       " 'গুৱাহাটী',\n",
       " 'গুৱাহাটী',\n",
       " 'তাৰিখ',\n",
       " 'তাৰিখ',\n",
       " 'তাৰিখ',\n",
       " 'তাৰিখ',\n",
       " 'তাৰিখ',\n",
       " 'তাৰিখ',\n",
       " 'তুমাৰ',\n",
       " 'তুমাৰ',\n",
       " 'তুমাৰ',\n",
       " 'তুমাৰ',\n",
       " 'তুমাৰ',\n",
       " 'তুমাৰ',\n",
       " 'তুমাৰ',\n",
       " 'তুমাৰ',\n",
       " 'তুমাৰ',\n",
       " 'তুমাৰ',\n",
       " 'তুমাৰ',\n",
       " 'দাওনলোদ',\n",
       " 'দাওনলোদ',\n",
       " 'দাওনলোদ',\n",
       " 'দাওনলোদ',\n",
       " 'দাওনলোদ',\n",
       " 'দাওনলোদ',\n",
       " 'দিয়া',\n",
       " 'দিয়া',\n",
       " 'দিয়া',\n",
       " 'দিয়া',\n",
       " 'দিয়া',\n",
       " 'নাম',\n",
       " 'নাম',\n",
       " 'নাম',\n",
       " 'নাম',\n",
       " 'নাম',\n",
       " 'নৰেন্দ্ৰ মোদী',\n",
       " 'নৰেন্দ্ৰ মোদী',\n",
       " 'নৰেন্দ্ৰ মোদী',\n",
       " 'নৰেন্দ্ৰ মোদী',\n",
       " 'নৰেন্দ্ৰ মোদী',\n",
       " 'নৰেন্দ্ৰ মোদী',\n",
       " 'নৰেন্দ্ৰ মোদী',\n",
       " 'নৰেন্দ্ৰ মোদী',\n",
       " 'নৰেন্দ্ৰ মোদী',\n",
       " 'পি দি এফ',\n",
       " 'পি দি এফ',\n",
       " 'পি দি এফ',\n",
       " 'পি দি এফ',\n",
       " 'পি দি এফ',\n",
       " 'পি দি এফ',\n",
       " 'পৰিচয়',\n",
       " 'পৰিচয়',\n",
       " 'পৰিচয়',\n",
       " 'পৰিচয়',\n",
       " 'পৰিচয়',\n",
       " 'পৰিচয়',\n",
       " 'বজোৱা',\n",
       " 'বজোৱা',\n",
       " 'বজোৱা',\n",
       " 'বজোৱা',\n",
       " 'বজোৱা',\n",
       " 'বজোৱা',\n",
       " 'বাজে',\n",
       " 'বাজে',\n",
       " 'বাজে',\n",
       " 'বাজে',\n",
       " 'বাজে',\n",
       " 'বাজে',\n",
       " 'বিশ্ব বিদ্যালয়',\n",
       " 'বিশ্ব বিদ্যালয়',\n",
       " 'বিশ্ব বিদ্যালয়',\n",
       " 'বিশ্ব বিদ্যালয়',\n",
       " 'বিশ্ব বিদ্যালয়',\n",
       " 'বিশ্ব বিদ্যালয়',\n",
       " 'বিহু',\n",
       " 'বিহু',\n",
       " 'বিহু',\n",
       " 'বিহু',\n",
       " 'বিহু',\n",
       " 'বিহু',\n",
       " 'ভূপেন',\n",
       " 'ভূপেন',\n",
       " 'ভূপেন',\n",
       " 'ভূপেন',\n",
       " 'ভূপেন',\n",
       " 'সংগীত',\n",
       " 'সংগীত',\n",
       " 'সংগীত',\n",
       " 'সংগীত',\n",
       " 'সংগীত',\n",
       " 'সংগীত',\n",
       " 'হাজৰিকা',\n",
       " 'হাজৰিকা',\n",
       " 'হাজৰিকা',\n",
       " 'হাজৰিকা',\n",
       " 'হাজৰিকা',\n",
       " 'হাজৰিকা',\n",
       " 'হাতী',\n",
       " 'হাতী',\n",
       " 'হাতী',\n",
       " 'হাতী',\n",
       " 'হাতী',\n",
       " 'হাতী',\n",
       " 'ৰং ঘৰ',\n",
       " 'ৰং ঘৰ',\n",
       " 'ৰং ঘৰ',\n",
       " 'ৰং ঘৰ',\n",
       " 'ৰং ঘৰ',\n",
       " 'ৰং ঘৰ']"
      ]
     },
     "execution_count": 17,
     "metadata": {},
     "output_type": "execute_result"
    }
   ],
   "source": [
    "all_label"
   ]
  },
  {
   "cell_type": "code",
   "execution_count": 18,
   "id": "53c57aac",
   "metadata": {},
   "outputs": [],
   "source": [
    "from sklearn.preprocessing import LabelEncoder\n",
    "le = LabelEncoder()\n",
    "y=le.fit_transform(all_label)\n",
    "classes= list(le.classes_)"
   ]
  },
  {
   "cell_type": "code",
   "execution_count": 19,
   "id": "5fdd905e",
   "metadata": {},
   "outputs": [],
   "source": [
    "from keras.utils import np_utils\n",
    "y=np_utils.to_categorical(y, num_classes=len(labels))"
   ]
  },
  {
   "cell_type": "code",
   "execution_count": 20,
   "id": "828549da",
   "metadata": {},
   "outputs": [],
   "source": [
    "all_wave = np.array(all_wave).reshape(-1,8000,1)"
   ]
  },
  {
   "cell_type": "code",
   "execution_count": 21,
   "id": "7016b857",
   "metadata": {},
   "outputs": [],
   "source": [
    "from sklearn.model_selection import train_test_split\n",
    "x_tr, x_val, y_tr, y_val = train_test_split(np.array(all_wave),np.array(y),\n",
    "                                            stratify=y,test_size = 0.2,random_state=777,shuffle=True)"
   ]
  },
  {
   "cell_type": "code",
   "execution_count": 22,
   "id": "76c52abd",
   "metadata": {},
   "outputs": [
    {
     "name": "stdout",
     "output_type": "stream",
     "text": [
      "Model: \"model\"\n",
      "_________________________________________________________________\n",
      " Layer (type)                Output Shape              Param #   \n",
      "=================================================================\n",
      " input_1 (InputLayer)        [(None, 8000, 1)]         0         \n",
      "                                                                 \n",
      " conv1d (Conv1D)             (None, 7988, 8)           112       \n",
      "                                                                 \n",
      " max_pooling1d (MaxPooling1D  (None, 2662, 8)          0         \n",
      " )                                                               \n",
      "                                                                 \n",
      " dropout (Dropout)           (None, 2662, 8)           0         \n",
      "                                                                 \n",
      " conv1d_1 (Conv1D)           (None, 2652, 16)          1424      \n",
      "                                                                 \n",
      " max_pooling1d_1 (MaxPooling  (None, 884, 16)          0         \n",
      " 1D)                                                             \n",
      "                                                                 \n",
      " dropout_1 (Dropout)         (None, 884, 16)           0         \n",
      "                                                                 \n",
      " conv1d_2 (Conv1D)           (None, 876, 32)           4640      \n",
      "                                                                 \n",
      " max_pooling1d_2 (MaxPooling  (None, 292, 32)          0         \n",
      " 1D)                                                             \n",
      "                                                                 \n",
      " dropout_2 (Dropout)         (None, 292, 32)           0         \n",
      "                                                                 \n",
      " conv1d_3 (Conv1D)           (None, 286, 64)           14400     \n",
      "                                                                 \n",
      " max_pooling1d_3 (MaxPooling  (None, 95, 64)           0         \n",
      " 1D)                                                             \n",
      "                                                                 \n",
      " dropout_3 (Dropout)         (None, 95, 64)            0         \n",
      "                                                                 \n",
      " flatten (Flatten)           (None, 6080)              0         \n",
      "                                                                 \n",
      " dense (Dense)               (None, 256)               1556736   \n",
      "                                                                 \n",
      " dropout_4 (Dropout)         (None, 256)               0         \n",
      "                                                                 \n",
      " dense_1 (Dense)             (None, 128)               32896     \n",
      "                                                                 \n",
      " dropout_5 (Dropout)         (None, 128)               0         \n",
      "                                                                 \n",
      " dense_2 (Dense)             (None, 36)                4644      \n",
      "                                                                 \n",
      "=================================================================\n",
      "Total params: 1,614,852\n",
      "Trainable params: 1,614,852\n",
      "Non-trainable params: 0\n",
      "_________________________________________________________________\n"
     ]
    }
   ],
   "source": [
    "from keras.layers import Dense, Dropout, Flatten, Conv1D, Input, MaxPooling1D\n",
    "from keras.models import Model\n",
    "from keras.callbacks import EarlyStopping, ModelCheckpoint\n",
    "from keras import backend as K\n",
    "K.clear_session()\n",
    "\n",
    "inputs = Input(shape=(8000,1))\n",
    "\n",
    "#First Conv1D layer\n",
    "conv = Conv1D(8,13, padding='valid', activation='relu', strides=1)(inputs)\n",
    "conv = MaxPooling1D(3)(conv)\n",
    "conv = Dropout(0.3)(conv)\n",
    "\n",
    "#Second Conv1D layer\n",
    "conv = Conv1D(16, 11, padding='valid', activation='relu', strides=1)(conv)\n",
    "conv = MaxPooling1D(3)(conv)\n",
    "conv = Dropout(0.3)(conv)\n",
    "\n",
    "#Third Conv1D layer\n",
    "conv = Conv1D(32, 9, padding='valid', activation='relu', strides=1)(conv)\n",
    "conv = MaxPooling1D(3)(conv)\n",
    "conv = Dropout(0.3)(conv)\n",
    "\n",
    "#Fourth Conv1D layer\n",
    "conv = Conv1D(64, 7, padding='valid', activation='relu', strides=1)(conv)\n",
    "conv = MaxPooling1D(3)(conv)\n",
    "conv = Dropout(0.3)(conv)\n",
    "\n",
    "#Flatten layer\n",
    "conv = Flatten()(conv)\n",
    "\n",
    "#Dense Layer 1\n",
    "conv = Dense(256, activation='relu')(conv)\n",
    "conv = Dropout(0.3)(conv)\n",
    "\n",
    "#Dense Layer 2\n",
    "conv = Dense(128, activation='relu')(conv)\n",
    "conv = Dropout(0.3)(conv)\n",
    "\n",
    "outputs = Dense(len(labels), activation='softmax')(conv)\n",
    "\n",
    "model = Model(inputs, outputs)\n",
    "model.summary()"
   ]
  },
  {
   "cell_type": "code",
   "execution_count": 23,
   "id": "e9cce6bc",
   "metadata": {},
   "outputs": [],
   "source": [
    "model.compile(loss='categorical_crossentropy',optimizer='adam',metrics=['accuracy'])"
   ]
  },
  {
   "cell_type": "code",
   "execution_count": 24,
   "id": "46f5e85b",
   "metadata": {},
   "outputs": [],
   "source": [
    "es = EarlyStopping(monitor='val_loss', mode='min', verbose=1, patience=10, min_delta=0.0001) \n",
    "mc = ModelCheckpoint('best_model.hdf5', monitor='val_acc', verbose=1, save_best_only=True, mode='max')"
   ]
  },
  {
   "cell_type": "code",
   "execution_count": 25,
   "id": "6d3333d8",
   "metadata": {},
   "outputs": [
    {
     "name": "stdout",
     "output_type": "stream",
     "text": [
      "Epoch 1/100\n",
      "7/7 [==============================] - ETA: 0s - loss: 3.5834 - accuracy: 0.0230WARNING:tensorflow:Can save best model only with val_acc available, skipping.\n",
      "7/7 [==============================] - 8s 563ms/step - loss: 3.5834 - accuracy: 0.0230 - val_loss: 3.5566 - val_accuracy: 0.0727\n",
      "Epoch 2/100\n",
      "7/7 [==============================] - ETA: 0s - loss: 3.5288 - accuracy: 0.0507WARNING:tensorflow:Can save best model only with val_acc available, skipping.\n",
      "7/7 [==============================] - 2s 269ms/step - loss: 3.5288 - accuracy: 0.0507 - val_loss: 3.5035 - val_accuracy: 0.1091\n",
      "Epoch 3/100\n",
      "7/7 [==============================] - ETA: 0s - loss: 3.4961 - accuracy: 0.0507WARNING:tensorflow:Can save best model only with val_acc available, skipping.\n",
      "7/7 [==============================] - 2s 291ms/step - loss: 3.4961 - accuracy: 0.0507 - val_loss: 3.4818 - val_accuracy: 0.1273\n",
      "Epoch 4/100\n",
      "7/7 [==============================] - ETA: 0s - loss: 3.4181 - accuracy: 0.1106WARNING:tensorflow:Can save best model only with val_acc available, skipping.\n",
      "7/7 [==============================] - 2s 260ms/step - loss: 3.4181 - accuracy: 0.1106 - val_loss: 3.4169 - val_accuracy: 0.1273\n",
      "Epoch 5/100\n",
      "7/7 [==============================] - ETA: 0s - loss: 3.3327 - accuracy: 0.1014WARNING:tensorflow:Can save best model only with val_acc available, skipping.\n",
      "7/7 [==============================] - 2s 250ms/step - loss: 3.3327 - accuracy: 0.1014 - val_loss: 3.3582 - val_accuracy: 0.1091\n",
      "Epoch 6/100\n",
      "7/7 [==============================] - ETA: 0s - loss: 3.2980 - accuracy: 0.1152WARNING:tensorflow:Can save best model only with val_acc available, skipping.\n",
      "7/7 [==============================] - 2s 262ms/step - loss: 3.2980 - accuracy: 0.1152 - val_loss: 3.3496 - val_accuracy: 0.0909\n",
      "Epoch 7/100\n",
      "7/7 [==============================] - ETA: 0s - loss: 3.2309 - accuracy: 0.1244WARNING:tensorflow:Can save best model only with val_acc available, skipping.\n",
      "7/7 [==============================] - 2s 286ms/step - loss: 3.2309 - accuracy: 0.1244 - val_loss: 3.2668 - val_accuracy: 0.1455\n",
      "Epoch 8/100\n",
      "7/7 [==============================] - ETA: 0s - loss: 3.1179 - accuracy: 0.1521WARNING:tensorflow:Can save best model only with val_acc available, skipping.\n",
      "7/7 [==============================] - 2s 299ms/step - loss: 3.1179 - accuracy: 0.1521 - val_loss: 3.2274 - val_accuracy: 0.1273\n",
      "Epoch 9/100\n",
      "7/7 [==============================] - ETA: 0s - loss: 3.0290 - accuracy: 0.1475WARNING:tensorflow:Can save best model only with val_acc available, skipping.\n",
      "7/7 [==============================] - 2s 258ms/step - loss: 3.0290 - accuracy: 0.1475 - val_loss: 3.1708 - val_accuracy: 0.2364\n",
      "Epoch 10/100\n",
      "7/7 [==============================] - ETA: 0s - loss: 3.0692 - accuracy: 0.1843WARNING:tensorflow:Can save best model only with val_acc available, skipping.\n",
      "7/7 [==============================] - 2s 277ms/step - loss: 3.0692 - accuracy: 0.1843 - val_loss: 3.1725 - val_accuracy: 0.2182\n",
      "Epoch 11/100\n",
      "7/7 [==============================] - ETA: 0s - loss: 2.8344 - accuracy: 0.2304WARNING:tensorflow:Can save best model only with val_acc available, skipping.\n",
      "7/7 [==============================] - 2s 260ms/step - loss: 2.8344 - accuracy: 0.2304 - val_loss: 3.1042 - val_accuracy: 0.2000\n",
      "Epoch 12/100\n",
      "7/7 [==============================] - ETA: 0s - loss: 2.8106 - accuracy: 0.1843WARNING:tensorflow:Can save best model only with val_acc available, skipping.\n",
      "7/7 [==============================] - 2s 288ms/step - loss: 2.8106 - accuracy: 0.1843 - val_loss: 3.0151 - val_accuracy: 0.2000\n",
      "Epoch 13/100\n",
      "7/7 [==============================] - ETA: 0s - loss: 2.5601 - accuracy: 0.2581WARNING:tensorflow:Can save best model only with val_acc available, skipping.\n",
      "7/7 [==============================] - 2s 331ms/step - loss: 2.5601 - accuracy: 0.2581 - val_loss: 2.9944 - val_accuracy: 0.2364\n",
      "Epoch 14/100\n",
      "7/7 [==============================] - ETA: 0s - loss: 2.4052 - accuracy: 0.2765WARNING:tensorflow:Can save best model only with val_acc available, skipping.\n",
      "7/7 [==============================] - 3s 404ms/step - loss: 2.4052 - accuracy: 0.2765 - val_loss: 2.9674 - val_accuracy: 0.2545\n",
      "Epoch 15/100\n",
      "7/7 [==============================] - ETA: 0s - loss: 2.5899 - accuracy: 0.2442WARNING:tensorflow:Can save best model only with val_acc available, skipping.\n",
      "7/7 [==============================] - 3s 459ms/step - loss: 2.5899 - accuracy: 0.2442 - val_loss: 2.9440 - val_accuracy: 0.2182\n",
      "Epoch 16/100\n",
      "7/7 [==============================] - ETA: 0s - loss: 2.4542 - accuracy: 0.2765WARNING:tensorflow:Can save best model only with val_acc available, skipping.\n",
      "7/7 [==============================] - 3s 401ms/step - loss: 2.4542 - accuracy: 0.2765 - val_loss: 2.9178 - val_accuracy: 0.2000\n",
      "Epoch 17/100\n",
      "7/7 [==============================] - ETA: 0s - loss: 2.3461 - accuracy: 0.3088WARNING:tensorflow:Can save best model only with val_acc available, skipping.\n",
      "7/7 [==============================] - 3s 440ms/step - loss: 2.3461 - accuracy: 0.3088 - val_loss: 2.8741 - val_accuracy: 0.2909\n",
      "Epoch 18/100\n",
      "7/7 [==============================] - ETA: 0s - loss: 2.1119 - accuracy: 0.3641WARNING:tensorflow:Can save best model only with val_acc available, skipping.\n",
      "7/7 [==============================] - 3s 385ms/step - loss: 2.1119 - accuracy: 0.3641 - val_loss: 2.9187 - val_accuracy: 0.2545\n",
      "Epoch 19/100\n",
      "7/7 [==============================] - ETA: 0s - loss: 2.1828 - accuracy: 0.3502WARNING:tensorflow:Can save best model only with val_acc available, skipping.\n",
      "7/7 [==============================] - 3s 388ms/step - loss: 2.1828 - accuracy: 0.3502 - val_loss: 2.8833 - val_accuracy: 0.2727\n",
      "Epoch 20/100\n",
      "7/7 [==============================] - ETA: 0s - loss: 1.9391 - accuracy: 0.4147WARNING:tensorflow:Can save best model only with val_acc available, skipping.\n",
      "7/7 [==============================] - 3s 375ms/step - loss: 1.9391 - accuracy: 0.4147 - val_loss: 2.8688 - val_accuracy: 0.2727\n",
      "Epoch 21/100\n",
      "7/7 [==============================] - ETA: 0s - loss: 2.1592 - accuracy: 0.3456WARNING:tensorflow:Can save best model only with val_acc available, skipping.\n",
      "7/7 [==============================] - 3s 369ms/step - loss: 2.1592 - accuracy: 0.3456 - val_loss: 2.9600 - val_accuracy: 0.2545\n",
      "Epoch 22/100\n",
      "7/7 [==============================] - ETA: 0s - loss: 1.9016 - accuracy: 0.4101WARNING:tensorflow:Can save best model only with val_acc available, skipping.\n",
      "7/7 [==============================] - 2s 304ms/step - loss: 1.9016 - accuracy: 0.4101 - val_loss: 2.9569 - val_accuracy: 0.2545\n",
      "Epoch 23/100\n",
      "7/7 [==============================] - ETA: 0s - loss: 1.9522 - accuracy: 0.4055WARNING:tensorflow:Can save best model only with val_acc available, skipping.\n",
      "7/7 [==============================] - 2s 312ms/step - loss: 1.9522 - accuracy: 0.4055 - val_loss: 2.9630 - val_accuracy: 0.2182\n",
      "Epoch 24/100\n",
      "7/7 [==============================] - ETA: 0s - loss: 1.7187 - accuracy: 0.4700WARNING:tensorflow:Can save best model only with val_acc available, skipping.\n",
      "7/7 [==============================] - 2s 274ms/step - loss: 1.7187 - accuracy: 0.4700 - val_loss: 2.9040 - val_accuracy: 0.2545\n",
      "Epoch 25/100\n",
      "7/7 [==============================] - ETA: 0s - loss: 1.7606 - accuracy: 0.4608WARNING:tensorflow:Can save best model only with val_acc available, skipping.\n",
      "7/7 [==============================] - 2s 256ms/step - loss: 1.7606 - accuracy: 0.4608 - val_loss: 2.9274 - val_accuracy: 0.2727\n",
      "Epoch 26/100\n",
      "7/7 [==============================] - ETA: 0s - loss: 1.5538 - accuracy: 0.4977WARNING:tensorflow:Can save best model only with val_acc available, skipping.\n",
      "7/7 [==============================] - 2s 260ms/step - loss: 1.5538 - accuracy: 0.4977 - val_loss: 2.9773 - val_accuracy: 0.2545\n",
      "Epoch 27/100\n",
      "7/7 [==============================] - ETA: 0s - loss: 1.5069 - accuracy: 0.5392WARNING:tensorflow:Can save best model only with val_acc available, skipping.\n",
      "7/7 [==============================] - 2s 260ms/step - loss: 1.5069 - accuracy: 0.5392 - val_loss: 3.0552 - val_accuracy: 0.2364\n",
      "Epoch 28/100\n",
      "7/7 [==============================] - ETA: 0s - loss: 1.5358 - accuracy: 0.5207WARNING:tensorflow:Can save best model only with val_acc available, skipping.\n"
     ]
    },
    {
     "name": "stdout",
     "output_type": "stream",
     "text": [
      "7/7 [==============================] - 2s 264ms/step - loss: 1.5358 - accuracy: 0.5207 - val_loss: 3.0842 - val_accuracy: 0.2182\n",
      "Epoch 29/100\n",
      "7/7 [==============================] - ETA: 0s - loss: 1.5345 - accuracy: 0.5392WARNING:tensorflow:Can save best model only with val_acc available, skipping.\n",
      "7/7 [==============================] - 2s 267ms/step - loss: 1.5345 - accuracy: 0.5392 - val_loss: 3.0054 - val_accuracy: 0.2364\n",
      "Epoch 30/100\n",
      "7/7 [==============================] - ETA: 0s - loss: 1.2352 - accuracy: 0.6037WARNING:tensorflow:Can save best model only with val_acc available, skipping.\n",
      "7/7 [==============================] - 2s 276ms/step - loss: 1.2352 - accuracy: 0.6037 - val_loss: 3.1765 - val_accuracy: 0.2727\n",
      "Epoch 30: early stopping\n"
     ]
    }
   ],
   "source": [
    "history=model.fit(x_tr, y_tr ,epochs=100, callbacks=[es,mc], batch_size=32, validation_data=(x_val,y_val))"
   ]
  },
  {
   "cell_type": "code",
   "execution_count": 26,
   "id": "d03d1c70",
   "metadata": {},
   "outputs": [],
   "source": [
    "#model.save(\"cnn-assamese.h5\")"
   ]
  },
  {
   "cell_type": "code",
   "execution_count": null,
   "id": "7f048167",
   "metadata": {},
   "outputs": [],
   "source": []
  },
  {
   "cell_type": "code",
   "execution_count": 27,
   "id": "23126179",
   "metadata": {},
   "outputs": [
    {
     "data": {
      "image/png": "[encoded data removed]",
      "text/plain": [
       "<Figure size 432x288 with 1 Axes>"
      ]
     },
     "metadata": {
      "needs_background": "light"
     },
     "output_type": "display_data"
    }
   ],
   "source": [
    "from matplotlib import pyplot\n",
    "pyplot.plot(history.history['loss'], label='train')\n",
    "pyplot.plot(history.history['val_loss'], label='test')\n",
    "pyplot.legend()\n",
    "pyplot.show()"
   ]
  },
  {
   "cell_type": "code",
   "execution_count": 28,
   "id": "3e35decc",
   "metadata": {},
   "outputs": [],
   "source": [
    "def predict(audio):\n",
    "    prob=model.predict(audio.reshape(1,8000,1))\n",
    "    index=np.argmax(prob[0])\n",
    "    return classes[index]"
   ]
  },
  {
   "cell_type": "code",
   "execution_count": 29,
   "id": "b064bf23",
   "metadata": {},
   "outputs": [
    {
     "name": "stdout",
     "output_type": "stream",
     "text": [
      "Audio: নৰেন্দ্ৰ মোদী\n"
     ]
    },
    {
     "data": {
      "text/html": [
       "\n",
       "                <audio  controls=\"controls\" >\n",
       "                    <source src=\"data:audio/wav;base64,UklGRqQ+AABXQVZFZm10IBAAAAABAAEAQB8AAIA+AAACABAAZGF0YYA+AAAGAPv/BQD8/wIAAAD+/wUA9v8PAOv/HQDZ/zQAuP9pAE3/KAL1A2z/ugLUAzL/bf5P/tn5rfk/+/v4x/h9+hj5rPiZ/qMDHwZSC+wQGhMJGCUcvBz5IfclRyYrKHAqeyaFI/Yiax46HXgcXhm6EtsN1wi2BLEE9QOYAV3+jP6M/QP85vt4+zz5MPgg99HyXfH18SLxaPA27zruTO9q8Kzw6vFK8+/1Mvg6+NX5Kvod+Yj7Sv2//JL+FgGLA7wGMwoXDBkLxgmHCbEJ9grwCf8IvAoHDFYM1QxCD5AQAhFQECwQMA4bDQwPGQ8JEN0RAxEWD+cO1QxYChII1QUwAg/9yfrF+Pr2lvfh9PjvOevg5vfmXuRr3vDej+TI5Q3mDurD7CruMvJI9TL1r/Yf+MH4E/pa/vIB9wDtAYsCtv+9/28ABgHOAdYCUgSzBVAKqw7PE5sZRRwBHIMbhh00Hy8fnh4UHsYchRsjG0QZmhfnE8gRChFjDwkP8QsaCmAJkgo+CzYLuAsGCvIGwAPIAc/9Vfqe9WHsUefh5vriid3d4IXhG98h6IXqSeoH8Xn2cPXc97L9p/vq/FEDWAjcB+YM9RBVD4oRYRJFEiYSPRJXDdEJowuwDEIMIg2BEWgT7hjpH+gg3iMtKLEo5ygNKrgodSd8JSohyRzlGQ8XaBR7EnEP6wuSBvEDGQMQAMj+bv2d/Kv5c/YD9mX1MPGm6e3jQOFc4NLaQdh/3cviiOGM5KnrruxK8Hb2ZfkW+j//fQGJAdgHxQ+gENsQKxgrGNMVcRlbGA4VrRSjElsQ8hD4EK4QSBM7FY4VvRcrHMscrB6bJPYkhyaMKjUqlyj0KXUkgR55HdAZJhVQEZEQ/QraCLcKMAieAiP/Bfr88qPuR+mU4vXZc9GCy9zMxsiJxfnNJdG1ztDX099f4TXsDfQg9YL5DwBLAtYF/wpQDwgRahG+EUsQBRPHE5IRHBGaEdYQHhEDEwEVmxjmGU4ZSxpnHUUf0B6qIN4iviIvJsEpiyclKDspTySHI3siZRwPGigXrxHHD3sPZAtlBuEEfgPj/TX6p/cz78vmr+Bw2H/S3c23yffFoMCeweDJwMxGzh7Zt98652Hxf/hU/TID1QpwDlwWQB51Ig8knicwKLghCCJDH9oZZRgPEgcLwgvDDmwN2xLvGPMW3hkyIREjNiQDKYcpwybIKiEteCkRKdIolCN5ILodVRZlEqoPrQlCA4EAxwEqARb9ufg/9GTvfeuc5GjiGN8G0vzE5MBOxs/LzdaA2hjZTdhK4Sjk8Or+98P47/Zf9fb/RgS4EzIcgh9gGa0aaBQlDKsPXgSUBagG/Abb/xIIQwuHFSMegyJyIi4Z3xo2G70hTCb4KrIn/ieJKIUq6in8KCsiuBtgFssOkgrfBMIFjAJQAlv9pv36+V3zx+u85A/dJNaJyjXPR+wJ42Hmh/Bx6+vey+tJ3nzSDuZX6YftIvnHFjwLvBjZHf0YxAZYBmcBte/U/agAuRDgFaYjLx1ZJ7Ut/Cf4H2QeWRtNFu0mdylYKfwt7jM2Lq84DDeyKOocWRFXCkMPahjXFdMO/QbdAaD/WwzvCycGg/YE5HbXn9bU2JLZCc13t/fVZthX3vj9pwAX6WrlBNSYwffaluo88FHoJAFPA2ML4R+vJQEJz/be7sLTsumb/zAU5RetKAojBRyYMYEv9yEGHfgPgQnVF5AfZib3IA8iDx55Ii0vpifeEH4HPgo2ELYf3Cg1IqAVfxDxCV4RzhOLEmEAu+Xh4yri4uLR6OLU+bu12gHbZN1bAEP+UtZr0SDMD7XK2RTvw/ED6+0DLAnDDTEi9CD6/WTnueKRzuHu7Aq6H9ohrTMGLmUk1zeXMswaJgziCL4GXyGCLO0ueiOaGhwaUBwgJQocwQya++j8jxFSIPIr+Sw8IGcVQBI0GmIchx1TD5Dv6ugi6Lfh3uxI2mmz9MLIyG7NuPkNDLfjo9LUxAmgZrtG2t3kj+F/9RP/zwBsGeko1g7e9bXqzcqz2d74fRwyIxg5qDXEI6E03i7YIgoYThiJEqYphjfINYo1VydPKIoqqy9mIwgLBPht8VYJhh0tLB0qDB7tEvQOQhf9G0AdABK99SftrPFz9HQC9vMKw3aynNCh0vTuixrv/ozVQMpoq2eqY8pE4DzZ9dRe/E3wv/8qKj0b5PTO7AXU7r/s4RACeBiVMelCOCyTL0c0gCCYFfsUqw64F2IpiCv6NkY2KT96QFM+VDWuFdX9SvsJDLkdfzMXMJ8iURgBFOcLiA0XF9MMr/km7nLysfbmDsIFgd84tyLFKtSM3FUb5Rgr6vzaab9/opi9YNm62EbMR+u77oXvlCUsMRMSKgK38GO/3c488GECux7EMTsr1R0KMgQ0ex/JH0UXGA/nHpYlgSpPJTwuYj3/OsJDBTS7EfkDbQdpEd8jGDNkLqMcBhYlDEIKxxXxFdUX3f+C+In8MgdfF24AZ80hn3auDMVB5ZkS+xdG9iHXhsG2rTjCbdWl0S3FdeFm4YHymS90NMskpw4s9mXHvNbz5SX16hlGIGQjrBm5LKAm6x8xJWEgbxmRDoYWowjqCYkzpjjjPRNGwycXD8MRiiJNJJ8qXSu3FnIJUQy5BaMIQRNmGksGFvctAWHtxQQeAknUq6abrBjKosqQ/V4XgevH1JTXdq4EuQ3ZJM1JtOTOutFl1REc3jicMVQTRwibytzFWuz59usNLRTVIVkVoiHTRzA5VSyKLegMkQs2GQAbaApUINgosyRoN4cx5intG2gbjhT9Fyskkil9FLsNhQZSAbAGmhHcHXz+0/Xc8if3qwbbCo7M9ZI+ojmlNsVeCCco2vmS6CXWDqAXvfbhHtABusPQicnl0R0nqUt2N84xHBM71CfZlPhR+8oO1yCuBwz+QyRfN980GUxRRUUpGhtjEWD8nvHKFLMjbixVOF4pghkuGm0jMSbpI2ouXBDg+Vf85fw4/7AA7BST78vgRPKC6yH8jRIG3JenTrkLpdCto/KuDp/ay9gl1AujsMZ68aLaM7zf1qe3YrA1BD4mjhOqHdMLqtcW6I8MbRysF6sfggsn/eEXgTqbM2I0TjjSFxcp6i5VIDgOuA4sEBgVoCT2HmMcphhVFQceSx41Jw8nfA/UA/cAkgUD96gDjv8S4r/iee7p9W4NUBBH0OO4GLIymcDBnQHd7G7ZndcYuM+48OLJ/B3cEtjB0IOgzreUDLUSTxVXOLcKie0UDuIoyR+NMeQuzfcr/vwaPg5ZJD5YS0gDSclMTyiEDgEJ1xZhHBEojhwaARkApBJPIL84KUPkMVgcfQYLBRMIkgOEAZr7Sd4i4An76Q92L3Yxxvp4xKemAp2grJfRJOep2kLElcKK03zWyQBHBdTVs89XwU+iSNYDB/X+lxPAGtcITwiHJmExjTAaMAgkPwBQAG8RowRfIwND/ULGRZdLfjUPFGYj4DGTH2Qo8yDoAhMFYx5AJao171B+O5UdqR1vEyIBTwhrCqvz0O3190H+Shn9Lg4bWfH0yu6f2KbKyRLLptGu4pLMGspC653v9f0VA2PuvcE7vk7Ul9zW/F4Wpw9XASQWKRh3GDwuxicfGU8TBAZOAu4I4RW/KyhCFlK5THlIVzHmIUQpRijgHZwXbRFDAAsMxx9rL3U4ZUdhO7McChSzCN/7wfzoBVjyZenm+20MpxIbJUATW+FIu1ai2bkK15PT+NKP3fvLmNTP8YX7kfkd9r7ZHqVcu3LhseTG+84SE/Mr6f4RdAzACJgiAh3E/2oAKgIK+QMQXC/uLE4pBUN6O7wv5DtONZIkFSVAGz0K2xebG7ERxhzYJJIkfDTVN/oi5RDSC3v1+PBj/D73hOpu7f338f5EEaIBlc7XsxTXctgTz2Ly0+/kwYTXousS1Cb6Jw/l4jHCHN1V3iboTBOaHEf2re6O+0bkOvucIeEjSxOuEQsN1wyJI21BJS/tG38pvCYYLe46NTQ7ES8RWhzlG+MkiComFUgB8BTCKkst3StNId8BNAFvDFoN8gOj9GTeOcbs2xv4GfsS7mX6BPCNyX7Wf/gw+ELp6upUwy+wzsLL223jOeso9zLdMuAmAU0RxQPYBMTlgcvT3Kz7YBLKCzMU9BumJR1AFU4nLWQWSBOiGskxuzIxHBMOtwxFGzE5PTjNIcwSUgyXBNcPgRqYEIwAxAYGDxIPrhx0EXjnqM7/0Y69178g0E0BBytzCrjw2vf/7OTsiQ145o25gapOqdmfjsW3+XbwJemFBYMIXN/l7xHrkNC10X760fW72U77axuzKOJJpVj8NHQqLCNUJ4geVhYSE1sUtiamIv8YYxrbHE4l5is3GMME6fje7+3x3BAZCnD5ywVKEYMGIu8Q7WrLLKeaz8oTK/bv7LcdwxewAnoUN/r6wVPQaNxhtxykdsYtwNG9j/QIFoT0ovEd+DDWI9IL7M71ztyQ6/MB3wknJIpDEiueJ7xG5zbnKo4qcxlMAhka1zOdJnQekRZMEDshyTVrIC/+iQkzAGbq5vaB8jjjWgEDFiXxvt214+PEMuGjMtT/1syxDwUe+ftgGmMHK9D04Tf5wLrJrebnstxGvqHgTf3ovzXTvPGRw7PAgANMApTFWOCSBZQMMjDhSSEPfgT1MG0pQxQ4HFUSuAPPIPowIiDaEqwupyq5IjkyghDT5MT/9SdVARftC+5X4DniAAbS8Gm95MZv7soPDhOqB3EB/SfhCVbzwv3Q+K7x6uqXz6Grt9z//bbuqMlR4xj3EOGe3z7U55b5sGoMfeFiw8v0FiDbJw1LmDXG9yIYVkjnLvP3zAiPHSUcxyevK6gOphjtUP5JkCGuIeQmvASlGD4pZwZy9UsJ3fia4Mb15PGzw8DejShJAgj5yzBrUvsYT/iV99T1RwnnHuDkiKWw70wQcfVk203+zv/ODiH3fcBRrYPOsQh/8MzVz8uoEfI2BT4zLdMbZC+aLI0dVgj5Cu8rhUfcJNEH9xoIE/MLLiOQKL4iLB6/HI8IawtFISYYTgKY/4f8KeIE1uXGi+JeFVX+iedkIn1UQiLG9PbqqwfRFKgNkdi5pXnmYxPO9bvMieiJ9KP9f+e3yke919mNA/DRJbNr0ecXPCuBLiUQ6gDzKP8t5Qc0AKsX2yEvJugfax43Gg8Y9gV8/AgDwReeDlkO1xMoDI4SThB7GawU5ASJ5LjZfMrACdcxSdnR1ew0vk6jIdYNCfEjApIioxN6xcfUMhG9APnaJ93L91L2IgVR17C23Mw2DrL5tNXb5+Ly+wclIh0uzRPaKno+Jh/09P8dZioJKjw3wCtyIlwc9StfEh8VGgkfAO7/cwnwIIUVKQhhCDEeABdoEtkE5dq46DQhnhVH64YW6z0tE/MHWRK8BNAVMDTnABDLIP+/F6PtEtmj7UXnueiF8KzWG7sK5a4IRNxO2lP/KAtU/IcSsRdBBicRKDTFHZv6IyCYLgQfzialNmIX3PmoBu4F8/1ODTQLRui46KMbkgMP8cMPnRo1+LLpXvQ38HwM5hF1+fv2DS6pKVsLKgFpCqUNYBp8GSH5tfuw+dT42erE5v/bxulE5J/Rcsc41y/0c++K+BD0yPCE9h0IPwktEv4cXxH1Dr0Sshz7KZs6dzVtI7ETbANDBAkO3fki50HyHADE/5kHuQEz+VgShRsRDc7vsu3q+H8DqAGA7ubydxOfG50OmQfWAqIUZxe8HiQXsQgj9vvyKfw/8tzludtX5cvlXOet7IvtkvJa/DLriOZJ9Bf/gAZi+178uwZKC50bZyzSKqArkiyoNdgsMgzg/p8PXBifBG/y6/N7AY0N0BWoBPb7lQoGGJ0UNPt58if2H/qW7GPjgO7I/s/8Rv28/fj8iRs0F5ELJgvFF20K5APNCF/5+PUD8v74W+oS9RjvreZt74v3uvBW3ZHdouRc87b0lQIg9Bv3rByxO/sr0RR7J6g6riwOBrz7y/8jFA0LUPj796T98wG/CYgDte+P9XD+tfOe27bsIvps59HckfHVBGoBCwHA90bz7gVOFCoC4fHl+RcKowhwBIb7e/Q89T7uXuL657DxJ+Kc3hve7euF8OrnM+Gl6bL4IQUgBRrpQf7cJ+Q1IRZdEmEodyuSG7D+A/4jAMAPJPz69KL2f/P++4j/9wWi9NT2rPnJ9A7siQIyBEjuPfbwCmQWNQ2qEewBlP+yEFgUvwNl+bIGHg6NAzT5Cv8/Blz+/+so6K3x0Pwk7NLdr+nT/HX33Ouh7q712g0YF/cAOvH/ElAy3CNtDdsYkiOHH60VXAd8/6AJOQ+08+Pxi/ZD9lLwCuw87GPtFfyp9B/mefWCE+YJSfuMDXofwRn0FTcQUActE7gaHQ46Ai0MQRF5EHcDwfGF6kr2pfPp3HHaMO2f9G/i5ens8hL7SQHC9bfjqfrRHkgL3PQs/K4TExUxENkLfwcND9QKg/2q94T+SfKs5ujiXdt22s/fbOON1OTUVvPIBB70Yv5CGUkfMxaNFuYe7hzmIPUWTgokEDIjtRvQBl4JjxGMBZn36O/J4E3oKPK24jTWcuw+BU77PfjrA4AL7hPAGPwIrPrgGCogBAeG/u8JSQ/CA8gB2vq0/bH5PvSA6pjp5uuJ3OPd/dgK3bzhL/Dc9BXxnwJhF/QaVhBsIWkqtiGbFUgbGCPRHr8ZxA8TD/QXzB7LDHgAZQfGDXn+3fWE9J/1bgVNAin7zv4CFQ4WgQ0NElkYsB0cG10UcgSFCiYSFQbD9T32cfjK8KTsNOTS4bnlo9+a05fSKdi72y7j5OzZ8rT7VgDEDWcM2QspGeQYShMTFW0i9R7GFvcSmB3UG3IXhRU2Cp0G8QeYB0v7d/2uBAYC2fQG+Vn/hQU8D/wKlwmgEmocCxRXEN4Rgxb4DxcExPsY83LwPOx15LjbPNZfzCTIGcMKwtjEOMcWzqrToNyw4fPsRvZJ9Nz5NALvALn7qgFbCccFvQLIAw0FGAgfBhj9GP5LBHD/DvmT/cP/ufqW/l3/JPkj+30Gv/3R+dkJaw9tC8MMxhhGEcEPThKrDNADjwQ8Ah/rwOZL6jDa38rU1dHQ1cI4yOfOlskW0xbeHdgo3fbrVfW58GT5nATJAv0EjAosBjUAywXyB3/9CwHLBJ/9uvwrApz+3PvMBZIERwJtBicMkgibDMYOwg2iD+QOUQtTDfkWqhBnDy0LLhEOE+AKdAD7+Q//UvJF5kbdm9uJ2I7VRNGbzcnQJdSg07PNtNMU3DjhRuLX5dzr+fcT/Hn3yfwIAg0CeP5s/O35PvgO+nn4HfUH+hgADv6t/cEH3Ah6AjIFhQoKCiUQMBD1Ae8CmA1bC1YDvwJR/7QFFAsKAqT33fytAWzxuOi/5Ari39py1RzNWcbQ0BjXh9MP0bTZh9wo2WncZeFm423pN+ta5pbpLPWl8xbrMez87hHsDebQ54HmBOy88uvvXe/R+4UCQfh7+mEDdAh1C50IagFAB5sUpxPcCyQKCgyWC/oK7AfaAu0E2AvgAy76a/rC+sjzvupP5MvdU9ws3CTZiNRx2n7dIN7f4t3sDfIE8j/w2O1g8/f3u/iU8wv0XvaQ+WLzD+9Z9gf50PPh8m76zfs5+5P7tP9kA8gLiw3DBGQDgwxOEmcOGRFaElEUIxdJF90SJBb4G48TxQ5AC4oImQfXBr39o/Gs7h7vAes/5OrkZecS6X/si+7T8OzygfQo9Mn1SvxX/W74cfU69+H4qfmS9dby4/Pn9Gby+/El+Pn60/mV9xz5n/v7/ln/Mf8EBRkNdAz+Ck0RlxaRHHEeXxo2GOAebiFhGn0WuRPuETgScwx6AZb8fvwc93HxzPCo8ifxYu2c777wbvewAKACjv2c+9YAuAEmAIf+/P1C+2H+Pf2T/BP/NgBU/2D+aAIFAhQANP3h/fH7mQBk/7n8JwKwBzkHnwOVCygR+xBrEEMVcBY6G3EhlhutFfcZOB1xFygU/Q9nCZoIxAaV/ij5E/tz+lj2nvXh+sj9GP+NA+ADpQKwBAYKrQnoBGEDjQXeAfQBQAhHBpEB2QezC74IdQmSB24D3gKDCa0F8v6aAPQBbPy2/AgBUAIqBrwJ2wmgCMgRbxtZGYgUwxfJFg8YHRmSEVUMlA+qD30GCATnA1f/T/nJ+dr6Bvfr9cj1Nfci+1gCnAPVAo0IMQc6AP4BjgnDB/sGQAyHC7QMQBU9GPwQNA6REZsOTgxEC0UFOQD9A8IEh/5R/vAAev6g/AcAtAI/CDgNcQxMDAIRRRa0Fb0SvhBNDsgPsAu9BWUCL//K/kb7rfhU9qT3ivQt8u305fMG9bL5uf9/AOcBkgIsBs8IvQk3CrkFPQaCCTUMnQ0SDy0LiAmXCbgKFwraB5cGrAJgA4QDogNzAa8EDgPBAuwJCQ7+DaoKhhH2Fe4TVBOvFMwOLQ3SC9IGTgdEAgP9gPtZ+Hn3lPZv8RbwwfGR8o/vbfKo9tP88gQLCOMJgQ6RES4RpBLHDqoSPhcKE1sRVBThEsUO7BEVE1kQ9RDlDhUItAoWDnAM4gu3CpEIRAy7FNsUqxAQD40QCxIQGFkbUhH3DRkPvQmHCJcJugIn+HT4QPjT8XXwdO3D5obkieNn4RrrLP68AEIAoAs0E9EU9xfTFS8JNQt6Di0HHgRVCZ0JtAlWEmASGg/kEWcRdwfADs8a/hi7Ev8O4A61EWgZpBr9FxYWoRhmGrsbXxu1FgcPoQxkDBUKhgUN/vv7ifgm+SHyu+Xz2zPSeMkS2IP0OPb/9OwJqxOGD7cZChiUBzgCYgMd8tvtG/wI9Vrx/AZNEwoN0REZDPT7wgPtEiAWKBOzD0wMkg9NHbclfSLCIKcc5xdGIVMnWx/uGVUZ8RBnEBMRLAUWAjMFBAG//zb/O/Bz4Aragsx40aD/RAzy+ZYX7S1/FzYehCBe/IfubfLN4ZrYHukD8inxtwDvHCAetxZAFhUCbvBu/xwWUBLgAqH9Gv4tD+4sezdVLq4nGyn1KxUyKTUDLdEWZQ7EEtQOMw8HDwAJ4wAnASz+xvJ57sPlKc/f0yYIChouC7IkQS+3F2keuR4MAVb+yvrf14bKDeAv6xfvDAUrFTsSSRDFCfP1lvCq+ZoDMQsXAoTudvDGAFcUiijtKj4hfRrFIqssaypWKtod5wWrAZr/1vzkBTsIkPd97W7oXtewycXbmg8OFYsMSjIGOBInvS3ZFSD04/UR8iHfPNfa4ILdRODaAX0aKhpXIKMeS//c65LukPk69Ibu2fIh7n706QXtEmscuyZGH1INjwrXFasi4B+fHeAWJgopCoYGeA9cGywZqQvg+knt5N2p2ybOcuzHK5oeIhTkNRs33i4iMzkT+u0A4EfQ6ru0tK/XBfWXAC4ilTbIKF0o8Cbp/mPhee/hAWb2Pfdv8rna7+7tFm0tLDe6L2sSSf0SCpIflhtICST7J+N065kLjh5dKFAYHQJx8BjtcfU99l/lhu7MCaAFUiMGRBM4lzETJNIArfNc+oHkecJqtii5IM+DBgY1lD5nOjgjzQOZ/A4GggnIBIfvFsdVusTXsvVCF3A3ojGLEXEBSA33E2ssjDFb/vXo3emz80EJphy/FXP2rObA4q3q9uuY5IrxwhIZFfciPkqIQVEu0B0o/zvwZOy63UnAtrnSxR/V4fucINA+/TspNoUj9PJP6s3xV/xrCSgNlu6d1rfvZARAKKI7uSacCxfvGPC7ACkbUyU3EaL8Seal7wUVciByGOQEItiavbHPmOCV13Pztx+wDzMhlFJdRWksFCo0An3TvNW90mOxzqvV00zu4wTrMt1QsTyeOo4qBe+04f3cuN5H7sTwc+wa5PLqBhEYP8FSRkukGQ/uEOe1+zIkaidbJKQHWd2q7lkUcDD9MokbQ+cpsKu54NHv4SMqLDQWDbky1ErfR31R0zsFBa7hW9SSxdi5EcZB4ZTvixi5TIpZ0Vd/PVn75dIJzQ7cCvtEAbntfclvzOvoAhj2Vs1fjDon/2bmE+kpDvs3mSfSEiLzi+DI97AjrUGHKasBd9I2srjHddn/34sSiidRBuQe5kGYPJpI2TLT+FriL82uwavHwc+g76gAKRvFQ9VNj1AqPagEsNb4vtXFXvWHBhL7hue6zh3bFwsRRt9VrDerBqHY3NYsAxgj9ytxGA3tCOLC5pQLXSbAGS79oLgGpw20RMWvH2dA2zVnQPIyxTBDLNcwzg0F21LUa7lTq07K+O1pBRQnI0yfSwRGDjnH/0nTl8M0yPfa+fm1EBn06uxb86LzKh+yQSY+AhvJ8sXRLNUUDAsxzT/UPkYWOffQ/DURUymVKYAON9Wbs2q237iy/RJHZkdmON82nC2pLKREgy9cB9fgmbpfpnimw+I4EEkyhVj7Vf5BTixIGBjpTMwYyBvZQPHw9fUCQu5i+JoVsSpmSHkxkhUa5w7XmPHO8Tsd/iHgCdgRYAQmGhsh5RsvDO7YXssIv0u9bN85FNwupywIR1NHoS1YPPwz9QR/+o3mC72uuVDfFvahDDNMDlDiRkFIYxfj9fbbUdBM10fnYgXN9qbvKvbp2KL9+jFWQuRB3xcb8nLNCeRjEGMaWDS2JE4EHPGb8QcCAgm9Cibslc/ltvi5BPjaKj5Ju1dXPnghDhmoCb/4rfix91jdqtFk5+zmFwuGOrE55VEUS9kfBvsP1Vu/TcXt8YAdyyzGIykKQOoF6D8FzSJnL60m6f8X08Dgl/BTFDBBtzTSIEsE3f4t9aX31ATM1gfCh7ZRwrbnUAqfUBdZAUz7SSQWwfwaAKDrTN1M3q7Z+NFs3GgLbi42RTlk/UwvGCj88NKHvW3Tt+JvBIEiKimLG0wB8/UF8/AMSSUeLfoWIPGV1zfKzO0NFEcrKibMD5f/JeCw6frwV+gI4dDJOtJD07v6eDklRwlSxDP3DXL4YesC8SX1RAcdAQTjZdHO2/TxxBWiSbhFHS7GFkjb9sQ60IzoZQ+MKKk3gBdX+CjquNro/EgkiTsCLFQFxuc3yq3fKQb4E/keYxZw9Q3qx+nf5Zflud3G36LbwO4BEy4qlEloQ2Ui2QCd6lzxuf8SFGAXBgWr5FfS3uLG6GYVmj0DJ3kcHf6Q3+Le4+y5B80X2SxMMX4W/gKv9vvsh/49Fw0iNCeBFYnuG9YU2DvkUPaWA04E2/xD8S3oot+u6J3ruela/0cNCBtHIm0i8CQ0FiYMcQ/XBfcEWxXmB+34++p+1uLSotzNB38eKCKwK8IMG+1A6hH0wQF7Fe4fGw/BDsQM9Ag8FdMX/h0qEGAPxwav5t3czsMix2fXqOqBCCwLnhocEEYDEgn6/E8JFw6FCt4SwAntDT4Xch3bLYAn4SGSHmQN+P7l8EfmyNENy0TYoOfHDSwmlC64LIcTqAlSAgEIRRLgCZMMiQIdAqwNCBOsH+4bBxNYAvL11uX1xJy527u3xEXoGw9zHoEjYBKHAi79OvtZDNEOaxQtGN8LUhASEV4acSSLGYAYyAaG8PzsueBO4kjkQeai9XcB6xH2GuYgAB8gGh8T9QZ/CnQEnAEKApUCgQ4QEwUbvRUxA7Xz3eFN017LSswv1C/bF+KG9isKgQ4cEuoP+gYu/F/7/P56BFYarB+jHi8cZBAgDDwKCA9qBxD6UvE/4aPW69nG4KLlCfugC4UT1CP+KEcmbB8zFPkCQPoy+7/2+/5ZC30OUQ9JDJoBye5/5KPcdM+21f3XutwU5UbpC/kC/ekKAxHPEHwQjQoAC6H+zgieDZcMPhS2DlkNpQHlA6P+mPId+NDoTtxC3dPht+mE+LUImxHXFrMXWht1F88Y2xM3A7MALf3K/83/6f/JABr0d+z64n/ac9XM0ZPVKN+W61z18PUS8OL1VvpWAVgT2RjVGoIVfgkqApP/8AbjCWsS/RCuAGz7aum/39fk/eA15qvq5eur7Yj0KgAWAy0WWx8DGVMbdBQBDsAG3QfMAhL44/pQ9Xjuqemy6HPjadco1l3WxtOu3Ejome72+dD9j/vb/NT/GgkvD+UVOBxdFHMNXATV+4f7DP2MBZT/svqp9QLl++aM5SLr2/C98W/4AvEs+qT9VQXIGQwYqB1sGnIQrQVR9mH0Lujk5Ejn1uKw4i3YytYI01LSD+G64y3prvFe9XD42/sQAhsG4AgzBjEGbAixCeoNZAkPBYkBXfaP7j3vvPDO8n/zD/FH8a7qwetz8qzz6gM2BRb+gwShAUQK3ROVFeobZBanCo/9K/YW9FfxyumI29TZgdidzlbRotsx5AbuVfOC9Xz5ufun+Xj8TgbhCcAMOwvVBQIHTgZPBfsE2P6u9BLt2+hP6LnusPRK9pH4bPiJ9+76vf9wAEkFwwefBWEKHwu2D/cTpBbmF4UPoQia++jv6eY/3qzdotcZ2Jvb19X42kDgFeEL6F3w6Peb+3v9Sv/gApYJtBCYFbUUvA+sCpAB3Pn6+zH4G/AY8H7ra+pd8Rz28/7nArcDxAS4Ar8GEAeJCSMOJhOMEhINexNwEFgPUxAhC9IDVfQ/66LfvdtZ30TZn9ll2ObV3tW22NriYuh2707xyPQM/+AASQX5C/cLfwkLDGgHbwHh/f/tJOpJ6Svlbevq8PzzNPPu+H78zgH7BlkAXAZRB68ENQ9FDw8SLBSmDz0SABKJD1cH2AMy/mr1oPA25ljopOlS6L7pJufe6ETke9/J4QTpye/K9lYCmgU7B5MLAgpcCiAPYgytBCwCJf1p9kX2kffs91n6yf8sAUIEtgZIBM8HZQc5C30UVRJIEtYP2ArFDQ0Png9NEKARiQrTBRgIBQHa/xX8evLK8gLztvIi+HT8vfUF70roAeST7NTtu/Cy+jv8WPs1/z0CZQJMA339z/g7+Ln1mvXI+Bv+XACpBPoEKgJsA3H+d/8SA+0FPQqIBmUJjgjJAkkB0/uW+bz4d/rE/FP+mwFaABkB4ANMA1cCogAc/cT82gETAssBOQTPAfn9wPpo9/70CvMT8H3s2+lF68rtDe9O7+Tuf+wT58Xnke528kj4Yf/CAQQIJw+RDnMPXBCZDFgM4wkHBUMCWvuH9lj1N/Gl62nqNenh6TjyZfKG85P8aP1ZAZQK1AyKDCwRZxQDFVAbfRz8F4AUXBBbDoIOqQyXCHcDYPwd9oruIOnY5zPm/OAo38Hmr+k77qf7Iv4Z/msDGP/SAb0MewvzDEIQRwxvDPgLuQHB+Y/2hen54cLic+LD5JblaugR7ODvB/Ln9WP7Lv+iA4AFGA4+GUcfmyGTJucqkyhXJssmXibqIa8YnAs4BrwEnAHv/Tn8/fch8bvpF+JW34vcPdxl3wHmvu5m+q8C5gmlDxIGov+8/Rv0E+4878rrle0k9MrzG/u8/9b7+PJG6GTgYt1K4HjiYeSP67b50AK8DWkZtRsaHBQdiB36H/clpip0LUMtSC4YKtIgDSIvHf8T/A+OBjUAlAFWATb95fsx953y+fAF7GToWug+3tbTVdzM39XhMfFk+pP70QKSAVT7lQCT/oD2+vfR9if0J//kBxYKHA+rC84C3Ptc9QDujejq57Tq4fBK/dIKcxRqHnIhvB9qHn4i+yf/Ljwx7izSL+YqhSdoJUsgmhuXEOcEkP49AXP+ff7b/q/2lfPb8b/uPu5u8YXvhe849aD1evBS7d3vz+3d7ED0QP78B4AUwRkIEf8KngMg+qv0xe9y61rrt/Q4AuIKFRHtD1wFrf6l9FPqPuu68+v77ANpDVsRGBXTFu4YURkqE08S+xIlE3MZuR37FzgSowsDA4oAhAFnAE0DBgl8Ce8LSQyECWsIhAiTBa8CTAS4BkYLzwtlC/AGivwQ9GfvpOpR5wnqEfAf/HAClgPhAgn84u6/3tPWXNjE4s3wggCyCB0JxA9hDZQCiv3Y8BzoGuxY7mTz3AA4CSwKYg3yBVIDMQZVBdkNPBLoF3Qh9SQSJMQlBiLXFxYWhxMgFpcj9SriKVYp3yXdH2Ma+hMhELUL4wkWCxoNNxBQD+YA4+/352DZ6M7lzyfOzNJ63vvi2Ofa8+n20esz5E3bcc6103PdGeQ681X+NgHrAhMClfwo+Az1dvQ++HL9rARgCzAL/gWXAy8BkwL7C7MWOyB+Ki8wsC+cMvMvdigZJA0f4h+GI+8jXClULmYphiN7G5sPJwlBBRH+aft/+/j56v0SAeT7/PS46vXY3syHyXnHH8pt03jdgOZh6zHthepJ4+XcT9VH0jbWhNrk5LTzEPjj+nUCZgAD/Wf/LvtF+zkA4QMJBhAKXwgAAfoB1f26AkwLKBFPG/UiRSZLIW0eihaWEbYRnQ1bDTIQYxbZHjUoaCnYIQ4ZNhCAB2wDfAFCAQwIFQq1CRAIvQJz/k703+U21yTJ+7qlsXKxEbPovdHNBNvK6CvyJfL27ezpj+Kf3mLiBe3G9G79lQxLEhQR/xCQCgUGrwX6+mH2LvqI+GH5Rftx+DH57/8uAAYHDA+BD60SRBaNF+cYHx3cGtEgNCc7JkAmQyUTIf8adRcLEIcLGAkGA2wCEAgsBkQEtgWY/Yvzq+yA4KXUzM6Jx9fBTrr5rDStWLH9tnXGv9Uo40/sW+5p6nTqRuUs4a3oSvW2/dsElhAGGFkZ0RtJGFkP2w/FCdMEZQT6AT37oPnN+dX2zvu4/moGTgw5EoUQbRBSFOsRYhM+FqYfOx8eHQEcXhU6Dh4I7wONADYGUgUGATr/tvvb9Kzpe+HV2LzOVccVxhjCvsGcxQTABbVwr/eyd7T1v/jU3+Ow7er32Pjk8Q7yw/KQ8oP6HgdICKgRdBdBFCwVnBTuCawC8AHc97r3AfS+9xX4evfA9xD1VfhI/4wMvw7UF5gYkhruHg8dpBpRGg8fAxpEFqYPwgdh/cD+GwR0A+AEQQPt/+r4aPY07tLnfOnP5m7kp+cx5fff5+Dj32LWjsujvoe8achHz/nd6PCP+xv+WABF+HTxlveV9R710gOLBSYE2AuoCzgM9w88C1X8qfsX9VL0+vqD/Qf62vQ5+v301/jzBF4Tjxg7IDMfjRmnHcsW9xQbFPsaRBQ9EIgRMAo7BbIFlgxkCekKzAZk/JP2Ofh18t/wEPZn8TLrzuqU6czkwOYI4vnTusEtrQua4aNJue7KJuAu9in3F/Qw+Jry5vdsAIABsf6UCIcJzwwPFrUZnRUgFxMSZgHk/RT7xP1f/fD5e+YQ43Xoku0eAi4SWxKtCwwRPQoxExUgQyTKJo8scydTFIEUyAoQBqEFOwi3AQD9gP0R9jH1Ifbg97rrV+0Y7HXj8uZ97YTvlfFl7UvWTcQwtfKiRK8hytrYEelj+2r8//ptBm4EigWPC8YK8PxWAnkKOQgdDgEU7Qq3AGUCSfGh8G36sAEm/Rr+9O/34DXtV/SOAaYLGhFmA04EgwafCo4jEi+kLIonWCzlHfkVDxhpDpUHrgcHBuD+8wUwAoD39PQN/V79s/ygBkr8+vcN/MvzAeyI7lXmvtVozKi+yrZMv4bS395b30Tlj+YY6FP0Xv1YBDoLnwzuDCwTbhlfGd4UnAh2/s36s/U7+0gIaAZ4++/47uuN5Q/yWvtUA2MMpwjw+274zQQYESQZPSe4I7AbxB1zICwaiB6MHwcTrA6OFa8SCwbkBp7/rfUk/OkGWwBSDmsR7P3o+5gA2/xy/N0Co/CH5t3g1tjG21znbuzv4eDg994W3pzmYvHR8hjxdPvm/usB3QiBCXYA0/oj+o/6FACVBrcLzQeNBWYDyQO5B1IUXhiEFG0XmBT0DfkFHQPbABoChAPkA4cFUQggCh8MBhAZEuISxxGeE9MVEhIEESYSIxYyFTERCQ4aC88RwQ7IDF0I4AI4/Xn73vRR7ALwK+iN4kXlfe+Z7ujxSPD76svsne7O8QXyRP1q/Dr5h/kQ/ev84/4wACX4dfEF7X3yK/eu/18FkASICToUdBoCHrIkkyT7GiUVKRHVEoEUHhFxDTYIDAgNAUj/YAVwB0QDHQEOAN7/vgT0BXgGhQbTCPkHdgjoDrsTohEvEYYUVBYvFi4PLAbR/jH/S/kp8+7w0/C28yDziPQL8n7yBe1A7MPvxPKs9Qv1U/NL8ffz2O9Y7PHtMe355RTl3un28IfyhPfm+0H9xAt+GC8hmCl5LegmiyJhIeIhRxxKFx8SfwiCBrQFhgNGAqj/Sfp2+N32cfcV+VH6uvkF+er6JP2FAA0ImgwXDL4OuxHiFCgVjxQ3FL0T6xFZDwAO8g7yERsP3At8Bi4BPPwk+4n/6wBFAAj9uPhs8oL3kPvD+gj7L/uG+DP1GvYy9HT0WfXC+cb5gfseAxcK1A2XFG8ZpxjvGzse6RxJGw8dgBncGKgY2RTBD2YM4AqQB3kFIwC9/df8mf4bAJQA6wHu/Q/9uPwo/CD8ZPweACwB2wDlAN8EBQtIEj4Xhhn8Gl8cGiKMJCEhYx0/Gl4YUBfnEkoNgwlGAuL3pfMO80rxF+5X60brfu1D8FTva+pm7WXz7PHp7mL0s/mt+VP8a/tp+4j/GwkLDYgS2BdYGFgcaR+LHswYwBqmFWsPxA3XCgAFWQGZAxsBqwDJ/Pz5B/mZ+YD4J/dW99r3gfk49ir7zf9TBb0J9wjoDSgS0hbMHOggJyH9Ijkj7yGrI0AdfRYFE44NmAiBB+QFa/099TTwq+8l7vDtaO247CLtTOo16R/sFPJ98k7xwfJL9ejzSPgMAjYFYwp0EBcUXBZvHIEcThpmG0ga2hoEGREWexC/EMgQYwzfCXMJUQiuA1cCGf1W/vb9qfhU9Uz2EftP+ur+kgBhBa0JUgrADE4U/Rg4FBQXLxqaG5UY9RcBG8IaQRioFWEUKhCoCK4BwQBz//j6ovU+8fHsUufZ5QnnsOX45JTl/eJL4mTnQezw8qv3VPuLAD4EGQlED+AUWhhFHYEZtxMZF/8X+haJEVAMuRK9FS4NpQa6A5wE1gIc/XH7wP6iAN38CvtY+4r/ZwJ7BIEBTgCHBMkMbxSqEGcQARUaGREVyw/jEDAWwxZKEAwN8xBeFN0OaQggBmwHPAUc/6j7ffga9vXz1OxB6GnuUvKS63LplvGI9z76OQFPBfUHTQ6FEZkOxRNuGRMTJQ42DRwPkg78C6EKIQ2KEJESlhDeD5sVhBoeHC8egR9CHu4bBRo5GAQTLxDYDVoNvQbSAEIDaQRlB04GVQF8AqYFzwVrBtUGSwrVCBIDgAFfA9EA6fi18m3tSuqF48fqHO5n4nPrnwE//lj56QnIEtsSqAnnDRMT0hrMGUoHNAhxGMkRZPx8AXMEWP8R+Cb9wv8NBUgOshJbGxIkPSm+Jbk1kz6QNhcwTzglNvwpOCgDI0MgTBYsCnsFbAqnBjP7uPskA6ABD/2O/u/+9v5v/hD+cv47/4z0pOn8673lndOgvmvS4uRTu9C+Dvtc/C3ch/xAGr0Z8xKUERAZXS6IKRn4VwqoLSMVXe0uBoEJcfJM6+f01P9388v7Y/jzGoogZgxGFlxB9j2RHa8yHz1vNk8fxCMmIuMnhxj/AQEWeyIkCPP2FRkgHegLmQ2AHTEaohhDGxsR4BF5FUgFr/5IAqL1QOiU46rgl8fvu9PDEK9zkQfC370oke/NU/MpyyfkTR87E6wRayCQKIcmc0CVKYUY3jhnMagOARHoKrQFCvCl+VILBuU66RYGqAKrBR8I/RrvIbcycCKZJ8A9KTwsIm0mqz5vIUATIB5VIJAIMwvjGcULpwYeGeAOzQIWIMQaPRMwH/QQgv2VEPMJ1uQS4Mjq1cKRqGetLpV5pAabfYg1r2/Q4KzTxtv9QwZv+SgCCzcMLQsbfyPhOmkl0xvvE7QOxQch9Y/ipuhaCq7W09jIAj//vOl8DeMm+yBSJR0uDkbSMVMz8zVBNywpHh/CGcgTuxEH8t/2Gwcg+7jmHgQGEicAgA1hI3gUFRj/L0sTahHjE5/5zfBY8b3OeLzEuneXdqOAowGAbqAwvoiqWb3C3FflO/z7+I8NwyOsFnEX7SaxI2EPzg6EAYz4i+n76RPf5+X13LDgvu/754UHGAhQFxYlJS4CK99BcTlkK14/uDJbHXYcUR/o/+0CpPu18crxCOwk5yv97vPm5YICAA2M//8QIx4aDNodRAewAyQJTfPs1vbbXcY5lzyyV50sgVSlBrF+kr22Ss8f0CnrnusGBqAX1QzEEgowlR+5EvkbLRA8/RXsGudM0h7kUczQvqfVs8nR1rHgAfxAB8kVWil7Rs874zjzXvhKkUO8N9wyEinvItn6s/JgBvDehc8b3DPhVtG35SfmUeX4BRwLR/TfEPcirv9cB04IpPGA6VzVSrDLxX66/4J0qhO+yqJ+r1TCltqU7Ljh5gDHKDASWxmfOpg4/SzXK7gg5hnCAlT0GOmE6ETTCL9v0Pa+3t+QzFPaTAE2CqQdWDM2PTo/+WT/UtJVlE2rTgI/WC9ZGTQMLg6T6JzfyOTU2FHHZtwR2F7X7OxG/nHyiAhtEIsFQA4CBPf7Uutf1xDPCMsYoaSzbb/soN+zLMWQv4zjEObz5f0XDBlwCZMqEEG9JYsxFTIoJOcP5wPg+k/vd9xLzPbbp9ALxCXZfeYG5Fj5iQOlJBkrRhxoPyFYnkHVOkRUykk7N4Up7RjJE2UJH+7q72LzF+jq4sHmJu8z5O7tcfgB6OX1Gf+K6173SfNL4Bb1EeEuuUTT+dKzrmOzTcB8wu/LgsSS30zvnOkOB4ACFRDGHIEi8Sa3MSUmlBq3G6cKIBMb8fvpgO8276LSG8vg87rfHeYW+QsF7Bb8H8MlRDZGRw5Ab0GbQ9NI4ztvKFsnNxumE/ADXP9v/PjmF+bm61DWJtka7Irbh+Wb547j/OrC2H7jZ/NCyb3X1fb60vLGsdAb16XQM8DvvyDhPuIV2angvv3e/FrsyQsnGNsOLgjaF/4d8BfrA/kV9goR/aL6rvKw/SDlR/fZ9KD0Zvh6BH0PNRKLEmolhzd5HmMyRjYTNM0qaCz8JAIjJx4XB0IKH/5B+l/l9t9a6WjiO9wy2+fTL83Z4zHYTMwz4cbxfttu1Bv7T+ja3LfesfD/4rDTsOEM6e3nc9Ar6Kz0AfV/2Tb7PAtq9h4EUwWxHEMPBwPWF9AaKfs7Co8V7wAO/jQI6gdM/lT/4gT9EdEIcgEzEvobsxZnEo4cmC3UHwUc8yQOIIMZAhGyErMKyv2g/Hf3Xe7s7R3ZvdBp50bUeMWl2sXbqc/B22XdeOJw9nzuSeqW7iX+svS25pnzeABI7jXnvvfc8W7zHe6V/q8EV//QBhsKLBbfC38CXBsBH0YK5Ay4HNEbuwNECeAWxwu0+r8ChQuW/ucB/wX4D8wMjxEQHMQYsBhAE4AXbRevDFsCahNJCbT7hQIx+Dvv9eNu7fHe9tO/3ibaoM0r2cjdIs5K4FfmK+AL5kP1sern9AX9pu85AHEDCQRg95QCAA1vBWf/fg9YHDIHRBGHF+gV5g1wGBEhpA5qEWoVoQ6fC3MEK/tdAJr/GvGT9nsJ8PrX9jUMkQ6bCEMMLhb5FlcVqBUjFC4SehFADmIJCQbO/UT6hPtw7orptuhQ3mnWUNUE3FPPQNC95ATiG9af7mjvfOdv++fyFfyy/y/8VgQfB9ME1QrODU8P3hTSD0gTdxD5DR0Q8RC2FGUQ9Q5lEyUIYAyOCfUCSf/s97z9XPd98+b4Sv6h+oQCGvpJAF4QUQHoAUQOuBIOBD4JsBAODM7/AgErAzzzqfMt8jfvc+WZ6aTlQOU16mrhXuSX78jqZeY59zHw/PyEAgP5tP5KBO0CtP92A1sIIwuCAJ0Jng/DDGAMgBPrGEAVbhKXHgwgrBPRGagfHBvVCGwOUg2eAk3/4vx7A7r5X/KC/Lv/ZvfT+UEAOv0k/1v+0P3q/7f9Uv5q+DT7gPxP82XsqPJA75Df3ecP6k3cr+Js7MXjO+sN96r0SfpSAEf+kgbfCl8IIgecBs0KCARSBAMF2fwY/vcDKwAGAg0GqgW2C/EIGhDVEiYKvw4KGS8SEAzwEZ4O/ge0A3IFj/6Q/uQBMQCt/R37jwBkAV7+5fmJAX0DCfhn9jT8FfiS6tvu6e/85WnmqeS55Z7jUOOk4l/jXOem5mjuhPIb+4oCNQcIByMPeBI3DMISZQ68DSMPNgYgBRQHU/7bAHb/jv6PAur+YAN/ChUIYw3IGJgSkBO/F0saQBLsDfMNhQ0dCUX9n//F/Uv8Uvd5+Zb+3PzE98P7gAFs+Wb7Rfy+/JP4vvaK9TbvXetz5ZXkCONb3JrWzuCk27DQqd7w407ecOLv8ZX2TfjYA/kIywi9DhERkw1rEUMN4QlBC5wHUwO3AeYA9Pvg/jf+GADCBaIGUQmtD+QTMhLLGCcV9A+rFHsQiQdmB/ID+fob+VL1mPNL8R3vRPF48mH1KvmL+jb+LP5VAjAFbgOEA/D/QvzE99P0G+9U593hmOPf3Pzaet6v3Aner+Dl5Tvu6/jM/kkFbAs2FHcPoQ54EyUSvg/8CQIMaQy1BEEBbwcVAbwBiAFuAdcHegfXCZAP2BT5E8oYwxZAF9QZuxHtCsoK/Ajf/rn6Vf1/+5j0rPMg+q344fW1+wT98PwNARABNgJHCYgF5P4cAsj/2vme9frzqepO5ALll9zf3r3gL+A+6LvwcPDg9ln/YgGHBRgHow4HD8kMbA26DQkIVQXhBZEHyv4K/CYFFf7X/B0C7gVCCKwLcQ3ZFSAUnQ4AFNYXoxBSCx0PrwsSBQcBLwOS/O323vfD/dz4RPh4/dv8pP4m/lkCJgBTAa4BqgJp/5f9jP0Z+Z334/RQ887u0PAx7Q/nwOkn72btPu899sT5OgIHAToDuglZCXYG6gjhCsYGxQc7CNUEkQTUBv/+rQFDBGgA5AL5AlkDpQfxC38JEQ9DEMQNXAwCDbULxAYLBIUCLwF3+q380/9Y/p36xf2Y/iX9NgCqAWoDrASHBzcIrgl4B4YDk/4TAlT/3vfo9/f0K/S/7YrsR+wD7j7u5+7A8djwHvaV9mj9tP5UACMEWgRQBf4EjgbRBZ0J1gZQBIgAP/yK91X59fps+RP9QgB/As3/NAMwBDYERATLBjoEkgFCBZMHeQZZBRQKyQiWA9QBygPMAaQHhwuHCOMHjwf4BvQHPwoPCRMIMgZtBvgC4QBbAF4BDP+1+fv3r/It74fxPPk0/aUB3gHuAE3/JPyNAG4D2gPwBU4KmQbEBUEGUQgYC3EIsQedBM/9Dfbh+I7+HgNABHkHMgjWAiYAHgPXCHUFiAkiEr8UbxFlDEMGOgVqBMwClwURCPQKiAjfC48OMw3DB5YI1gqYCDMLbw50DcwGgggICvEJZAglAwr+4Pmx9wr42fuF+eP4C/yk/mcD\" type=\"audio/wav\" />\n",
       "                    Your browser does not support the audio element.\n",
       "                </audio>\n",
       "              "
      ],
      "text/plain": [
       "<IPython.lib.display.Audio object>"
      ]
     },
     "execution_count": 29,
     "metadata": {},
     "output_type": "execute_result"
    }
   ],
   "source": [
    "import random\n",
    "index=random.randint(0,len(x_val)-1)\n",
    "samples=x_val[index].ravel()\n",
    "print(\"Audio:\",classes[np.argmax(y_val[index])])\n",
    "ipd.Audio(samples, rate=8000)"
   ]
  },
  {
   "cell_type": "code",
   "execution_count": 30,
   "id": "9eec3bbd",
   "metadata": {},
   "outputs": [
    {
     "name": "stdout",
     "output_type": "stream",
     "text": [
      "1/1 [==============================] - 1s 524ms/step\n",
      "Text: কবিতা\n"
     ]
    }
   ],
   "source": [
    "print(\"Text:\",predict(samples))"
   ]
  },
  {
   "cell_type": "code",
   "execution_count": 31,
   "id": "433249b0",
   "metadata": {},
   "outputs": [
    {
     "data": {
      "text/plain": [
       "['demo_0.wav',\n",
       " 'demo_1.wav',\n",
       " 'file.wav',\n",
       " 'final2.wav',\n",
       " 'final3.wav',\n",
       " 'iftikar1.wav',\n",
       " 'mehedi4.wav',\n",
       " 'Mehtab1.wav',\n",
       " 'out_sine.wav',\n",
       " 'out_sine1.wav',\n",
       " 'pouranika4.wav']"
      ]
     },
     "execution_count": 31,
     "metadata": {},
     "output_type": "execute_result"
    }
   ],
   "source": [
    "os.listdir('./input/voice_commands/mehedi')"
   ]
  },
  {
   "cell_type": "code",
   "execution_count": 32,
   "id": "70ea1fc4",
   "metadata": {},
   "outputs": [],
   "source": [
    "filepath='./input/voice_commands/mehedi'"
   ]
  },
  {
   "cell_type": "code",
   "execution_count": 33,
   "id": "c16ece3d",
   "metadata": {},
   "outputs": [
    {
     "data": {
      "text/html": [
       "\n",
       "                <audio  controls=\"controls\" >\n",
       "                    <source src=\"data:audio/wav;base64,UklGRqQ+AABXQVZFZm10IBAAAAABAAEAQB8AAIA+AAACABAAZGF0YYA+AAAEAAUABQAFAAUABQAFAAUABQAFAAUABQAFAAUABQAFAAUABQAFAAUABQAFAAUABQAFAAUABQAFAAUABQAFAAUABQAFAAUABQAFAAUABQAFAAUABQAFAAUABQAFAAUABQAFAAUABQAFAAUABQAFAAUABQAFAAUABQAFAAUABQAFAAUABQAFAAUABQAFAAUABQAFAAUABQAGAAUABQAFAAUABQAFAAUABQAFAAUABQAFAAUABQAFAAUABQAFAAUABQAFAAUABQAFAAUABQAFAAUABQAFAAUABQAFAAUABQAFAAUABQAFAAUABQAFAAUABQAFAAUABQAFAAUABQAFAAUABQAFAAUABQAFAAUABQAFAAUABQAFAAUABQAFAAUABQAFAAUABQAFAAUABQAFAAUABQAFAAUABQAFAAUABQAFAAUABQAFAAUABQAFAAUABQAFAAUABQAFAAUABQAFAAUABQAFAAUABQAFAAUABQAFAAUABQAFAAUABQAFAAUABQAFAAUABQAFAAUABQAFAAUABQAFAAUABQAFAAUABQAFAAUABQAFAAUABQAFAAUABQAFAAUABQAFAAUABQAFAAUABQAFAAUABQAFAAUABQAFAAUABQAFAAUABQAFAAUABQAFAAUABQAFAAUABQAFAAUABQAFAAUABQAFAAUABQAFAAUABQAFAAUABQAFAAUABQAFAAUABQAFAAUABQAFAAUABQAFAAUABQAFAAUABQAFAAUABQAFAAUABQAFAAUABQAFAAUABQAFAAUABQAFAAUABQAFAAUABQAFAAUABQAFAAUABQAFAAUABQAFAAUABQAFAAUABQAFAAUABQAFAAUABQAFAAUABQAFAAUABQAFAAUABQAFAAUABQAFAAUABQAFAAUABQAFAAUABQAFAAUABQAFAAUABQAFAAUABQAFAAUABQAFAAUABQAFAAUABQAFAAUABQAFAAUABQAFAAUABQAFAAUABQAFAAUABQAFAAUABQAFAAUABQAFAAUABQAFAAUABQAFAAUABQAFAAUABQAFAAUABQAFAAUABQAFAAUABQAFAAUABQAFAAUABQAFAAUABQAFAAUABQAFAAUABQAFAAUABQAFAAUABQAFAAUABQAFAAUABQAFAAUABQAFAAUABQAFAAUABQAFAAUABQAFAAUABQAFAAUABQAFAAUABQAFAAUABQAFAAUABQAFAAUABQAFAAUABQAFAAUABQAFAAUABQAFAAUABQAFAAUABQAFAAUABQAFAAUABQAFAAUABQAFAAUABQAFAAUABQAFAAUABQAFAAUABQAFAAUABQAFAAUABQAFAAUABQAFAAUABQAFAAUABQAFAAUABQAFAAUABQAFAAUABQAFAAUABQAFAAUABQAFAAUABQAFAAUABQAFAAUABQAFAAUABQAFAAUABQAFAAUABQAFAAUABQAFAAUABQAFAAUABQAFAAUABQAFAAUABQAFAAUABQAFAAUABQAFAAUABQAFAAUABQAFAAUABQAFAAUABQAFAAUABQAFAAUABQAFAAUABQAFAAYABgAFAAUABQAFAAUABQAFAAUABQAFAAUABQAFAAUABQAFAAUABQAFAAUABQAFAAUABQAFAAUABAAFAAYABQAFAAUABQAGAAUABQAFAAQABAAFAAUABQAEAAYABgAEAAQABAAEAAQABQAEAAMAAgAFAAUABQAFAAUABAADAAMABQAGAAQABQAEAAUABQAFAAUABQAFAAUABQAEAAQABQAFAAUABQAFAAUABQAFAAUABQAGAAUABQAFAAUABQAFAAUABQAEAAUABQAFAAUABQAFAAUABQAFAAQABQAFAAUABQAFAAMABAAHAAQABAAFAAUABQAFAAQAAgAFAAYABQAEAAUABQAEAAUABQAFAAUABQAFAAUABQAFAAUABQAFAAUABQAFAAUABQAFAAUABgAEAAQAAwAEAAUABQAEAAQABwAEAAQABAADAAQABQAFAAQABQAFAAYABgAEAAUABQAFAAUABQAFAAUABQAFAAUABQAFAAQABAAEAAUABQAFAAUABQAFAAUABQAFAAUABQAFAAUABQAFAAUABQAFAAUABQAFAAUABQAFAAUABQAFAAUABQAFAAUABQAFAAUABQAFAAUABQAFAAUABQAFAAUABQAFAAUABQAFAAUABQAFAAUABQAFAAUABQAFAAUABQAFAAUABgAGAAUABQAEAAUABQAGAAYABgAFAAUABgAGAAUABAAIAAYABQAIAAAAAQAIAAYABAAGAAQACQAFAAQABQAIAAEABgAJAPr//v8IAA4ABAAIAAYADgAAAAAABwAFAPn//f8RAAMABAAJAAYAAAAIAAYADQALAAAAAgD//wAABAADAAgADAAEAAMABQAGAAcA//8CAAwAAgAIAAkAAwAFAP//BAALAAEAAwAQAAkAAQADAAQAAwD//wYACwD//wQACwAHAAYABgAJAAUABQAHAAMA//8BAAYABgAFAAgADAAIAAcABwAEAAUAAwAFAAYABAAJAAkABAAIAAcABgAEAAcABwADAAcABQADAAIAAwAFAAMACAAKAAYABwAFAAMAAgAAAAUABwAGAAYABgAHAAcABwACAAEABQAEAAcABgAEAAoABQAEAAUABAAFAAIABQAFAAYABgAGAAUABAAIAAIAAwAGAAEABQAFAAYABwAFAAUABQAEAAUABQAEAAQABQAGAAQABQAFAAUABQAFAAUABQADAAUABQAFAAUABQAFAAUABAAFAAUAAwAEAAYABgAFAAYABwAFAAQABgADAAAABAAFAAUABAAHAAYABAAFAAUABQAEAAUABAAEAAUABgAFAAQABgAGAAUABQAFAAUABAAEAAUABQAFAAUABQAFAAUABgAFAAUABQAFAAUABQAEAAUABQAFAAUABQAFAAUABQAFAAUABAAFAAUABAAEAAUABQAFAAUABQAFAAQABQAFAAQABAAFAAUABQAEAAUABgAFAAUABQAFAAUABQAFAAUABQAFAAQABAAEAAQABQAFAAUABQAFAAYABgAEAAQABQAEAAMABQAFAAUABQAFAAUABQAFAAUABQAFAAUABAAEAAUABQAFAAUABQAFAAUABQAFAAUABQAFAAUABQAFAAUABQAFAAUABQAFAAUABQAFAAUABQAFAAUABQAFAAUABQAFAAUABQAFAAUABQAFAAUABQAFAAUABQAFAAUABQAFAAUABQAFAAUABQAFAAUABQAFAAUABQAFAAUABQAFAAUABQAFAAUABQAFAAUABQAFAAUABQAFAAUABQAFAAUABQAFAAUABQAFAAUABQAFAAUABQAFAAUABQAGAAUABQAEAAUABQAEAAUABQAGAAYABgAFAAUABQAFAAUABQAFAAUABQAFAAUABQAFAAUABQAFAAUABQAFAAUABQAFAAUABQAFAAUABQAFAAUABQAFAAUABQAFAAUABQAFAAUABgAFAAUABQAFAAUABQAFAAUABgAGAAUABQAFAAUABQAFAAYABgAFAAUABQAFAAUABQAFAAUABQAFAAUABQAFAAYABQAFAAUABgAFAAUABQAFAAUABQAFAAUABQAGAAYABgAGAAUABQAFAAUABQAFAAUABQAFAAUABQAFAAUABgAGAAUABQAFAAUABAAEAAUABgAFAAcABgAFAAYABQAFAAUABQAGAAYABQAFAAYABgAFAAUABQAFAAUABQAFAAUABQAFAAUABQAGAAYABQAFAAUABQAFAAUABQAFAAUABQAFAAUABQAFAAUABQAFAAUABQAFAAUABQAFAAUABQAFAAUABQAFAAUABQAFAAUABQAFAAUABQAFAAUABQAFAAUABQAFAAUABQAFAAUABQAFAAUABQAFAAUABQAFAAUABQAEAAQABQAEAAQABQAFAAUABQAFAAUABQAFAAUABQAFAAUABQAEAAUABQAFAAUABAAEAAUABQAFAAUABQAFAAUABQAFAAUABQAFAAUABQAFAAUABQAFAAUABQAFAAQABQAFAAUABQAGAAYABQAFAAUABQAFAAUABQAFAAUABQAGAAUABgAFAAYABQAFAAUABQAEAAQABwABAAYA//8EAAEADwANAAcA//8AAAMAAAASABoAFgAHAAgA5f/V/9//CgD+//7/EQAzAAIABAAJAAAACwAhAEIA5v8MALf/+P/3/wkATQD1/y0A2//R//j/xv8QABsA9f8OANL/4/89AB4APgAcAO3/IADh/xsAJgApAAMA/P/X/5z/vf8MACoA8P9BACYABgD5/x0A+v8UAPL/QQC5//z/6f8CAOv/6v/T/87/AwCV/xkAN/+/APL+NgK2AcEBd/8mANr/Sf1E/z/+bgJM/g4BBP/Q/w7/LgA+ApkCaQEn/+4AxPwG/8L8hP8m/jz/lf/v/3oADwEuAQQCGwLv/48Auf6s/3X9tv+p/iEB2gBiA1oDjQE8AYP/bv8Z/fT+m/7//uT+Gv9z/n/+SQCUA8gEVAOlAaUA0v9b/qD8F/0G/Zv94v7C/uf/gQB5AcMBLAISAUMAef9p/gX+5/1z/n//OQB5AEEBogCeAVQBywAuABv//P/4/sH/GP+n/+f/UAB6AdkApwGt/ywAkv/d/1//3P57/yv/ZQAJAFwARgCdAHYAZgAmACYA4P8r/0//X/+0/6X/DgD5/yIAOAEhAQEB3wCoAA4AAADeAHAAPgAmACIARwD6ABIBtABdAPH/9P8RAFcA8/8QAKz/XACFAFoAdgAMADUALgDMAEcADwB4/47/0f9pAMoAoQDPABUAJACpAOwAPQAnAJf/Ev+u/iX/T/9x/3MAXwC4AF4BuQHCAdUBtgEmAcAA8ABxAH4AQwBXADwAfABNAUoBXAEmAYkB4QAeAYgAKgBj/z//kf/b/5IAo/9g/6/+c/93/yYAhQCC/6b/c//R/zwAuACRAJH/p//4/8QAHAKbAnkCdwLYAhQDZwNOA3gCTgFFAGX/ev61/ff8zvzC/M79hv4n/ob+uf5A/1T/7f4h/gX9VfxN/Dj8uPvj+8v8Jf4k/1AAxQDSAMQACwC5/+z+4P21/BX9jv4gAUIFjAqGEGAVPBnyGz4dZxy5GjEXKBPKD1INIQzJCqoJgQdlBYsCWf/b+7L3MvPs7WXpzuXC4UTd2tkV1vPSC9DSzaDMMM3z0JPZsOkJ++MJsBRiGzscvhivFooSDwwQAsH5vfIV79Pz9vmCA+YKfxHzFsIY1BtqGgAX9BDCB2IAOfvg/OABugesDFcOlBB5EmkWLxlXGPoU7w3sBrwBLv8X/h39V/u5+LT2tPQT8dXrauWu3cLVnc/byzjJJ8c6xknGFcabyP3O5thK50f3DgfZEcsXbhpxGGQVUxAiCx8E9/yM+VH2fvg1/foD/QxNE8QZvhz8HVQdWRoWGMwS8g34CSYIhQfcBi0I3QcgB0EGUQbKB+gI0wq9C2kKAwgbBHv/qfo69n/vreiy4drZ6dNU0KbMnMeXxMXB3sApwVzEusq+1mPraQDvEHQa0RvKFecNUwh9A93+c/nl8zHuIu7M9vQC2RJ5Hu4l/SeZJKIhmhtaGEgTGA7gCh0KJg+xFP0YehdjE9gNiAjqB90IogoGCxcJWAWxABX9RPrc9pPyWuxw5YPdH9VXzqzJQcabwpTAGr8pvfC7K75EyAffrvuMFv4mgCx+J4QcdxbLEaQPXgqoAsz4x++w86j9XA/gICIr4DCrK+4mFCFbG3Qa6BQsFIsU7BcdG+4ZkhnYEioO2AsEDAMOgQ2ADtQLAwk5BzQErQIG/mP4QvKq6wHlXd7Z2APSLMrmxKvAzb0NvQi96bxEvhrE5NJf7aUMtyXmNPc4QDAkJFwaShQrEXEMFwg3AUP8LgBECDkY9SZlMq83bjLaKlMg5xfkEtAQABPRFT0bnx4JHIQYshISD94MJg05Dz0Ojg6+DTUMWgufCZoIywQLADH7AvXR7vDnquDU2EnQaMqQxlLDdcIbw8XDlsNwxdzNneKH/50bmy7ANqkx6iINFuANpAv9CkYKmwfKAf4CEAieEpkiui/SOjQ57jG4JrcYqRK4D1cWqx9hJooofiDBFrkMOAjJCg0Q2xXQFJcQWgtzBk8GlQfMCZQI7QKd+1rxmOjd4SXcbddp0QHLYMRzwKy+ML7CwKHC+cKexcLSTerGBdUe9S6uMqYoLxsBDzkIJwfoBl8JXgduB+sKsA7tGeskmDG2N3U1WC8SIDEWow5mDzoavCUyL2orVSE3FNAH1QRCCFUQAhRHE8IPrge1Aq8AZAFfAj0BZf3R813pVt+71W3QGcxsyOfEMMLQv16877u/vRu+xL/PxZPVP+5TC6IjNzFZMwQolxlEDfsFuQNPBNgHgQl4DfIRoBWmHnEmuy8AM8MwdipTG/oQ2wm5C+AXGiUhLpErxiLwFIcI6wQ7BgwMpw4tD1INqAcRAzj+DPwF+z/6V/jf8aHoZd080jXK7MTtwUTA4L70vDq5+bYAtSC0RLWPutHMTOlCCYQiAzAEMiYmYhdUC9kD/wI5BJgI8goHD2cT8BRUHHwjZSzdMZUxRi2fHnIS9QjkBqgRJx8tK7AsCyY5GX4JJwFR/oMBPgYWCp8MzwniBQf/ZfiO9avzz/JJ703oON2/z8HEML04uau4+bgxuM21jrIGsK2uIa9OsOO7kdX29WUUsSgXM/ctqh8OErMG1ALJAqMGYgt1EG8WbRe7G30guiXoK/Ut+S3lJCwZXg3kBOUKOReAI+MpsifOHn4PnAMy/RT8rv+WA1EI6AmPCCYE9f13+e71FPTn8T7tzOWR24LRd8j1wc2+47wivDG7ebkTt2K137T4siK1PMXT4S8CkxvXLNgymSqCHnUSPQqtBngGbAqxD7cXWhzKHoAiJiPlJpopmSpWKWoiZhquD30MNRIaGssinCUJI+MajBBwCEYDpAITA7QFEwoZDDUMNgm+BFX/f/qF9znzG+9E6B/f0dcj0fjMEMvdyd/IyMdKxq7E68QqxWjDlsMDzZbg8PcFDGEa3iLPIooelxsAGtQYvhfOGC0bsR7MISQjciPoIcghkSLhIpQjhCE2HZUXXBWEGGQckSAxIT4d8xbbD44LfgmsCJUIgwiECoIMKA0zDdoKXAcgAx7+Bfnw8+XuVehp453gk90J3BbaF9he1kzTBtF10E/R59DGzxHTwNzm60n4hP+3BuYKwg2JE4gcdyXKKj0v/jDPMOYwfC8GLfYokSarJVYk6iNuIkwfVRsuGBIYqxkkGx4cAhsFGDQVAxTFE/ISvBC7DQkMiQs5CwALRQlXBs0Cd/4r+6f4NvbY8kfvYeys6Onke+CQ3JPZ/NXK0t/POc/BzQ3KL8oX0SffwewH9df8nwLUBUQLURWgHzcm/yp5LUEtxiuJK2cpPCV9I4YinSHDIJQeahqKFCMP3gxuDrkQEhKGEtcQcw7DDEcMcAxiCjgHMgRwAvwBMQFcAHj+TPwj+Vn2vfT28gjwxexk6ZvllOGU3FXX29Ju0L7NxspEyeHI7cY1xDDIuNUA5bzuyfV2/cIBLQX3DXwZSSGhJesohijaJWMktyIKH2gcLRx1HPobzRrlF7MS2Qz0CIcJQQ0+EHQSwRKaD58LpQiQB5EFEwMyAfP+zP2r/DD7jvlt95v1SfSf8/vy0vAh7FXmU+Hl3C3ZzdVo0ofPisy8yVnH+8WOxcDDzsJAyiTaPejs72/3sP4hAtIH7BIHHlQjXiaCKLglrCI5IigfexuFGmUaCBq3GNIWaRLqDFMIeQcGC0AOZRAYEmYReAyIB5IFkgSsAncBjQGzAGP+dfu1+FL2NPVU9aP1Y/Uj9JLwZOr843vfj9sK2K3VPtTV0kLPgMqIxwTHBMZXxCvGoc8D3zDrTfJP+sIAFgTWCmwXGiMhKM4qZiuTJ6wkwiOsIAgd5htNG7UZrhfWFMMPYgoLB8oGNApADogRYxIGDwEJRgSdA0cEYgSSBP4D3wEK/nn6afgB9zv3lvhP+U/5jffG8lDso+Zc4hLf0NzT2iLYJdXk0IPM78lMyenIUcYnxp/OFt9O7Gny0/pTAhsFXwxAG1YoHC3ALyswpSurKO4nhyRpIEof3B5mHQkbTxhWE38OrAvJCwkQdxMOFQMUhQ9+CUsFxgUnCPIIpwiiB3YF0gGI/vj8gfwa/Vn+5f4a/jz7C/bY7/jqI+g+5r7kA+KD3anZo9Zb02PRFdEB0AfNM8uJ0HDgDfCr9r38UgTPCGAPMx1ALOEyQzR8NCMwpisjK4Ip3yXzJIEl3CToIhggZhvjFegSIxOoFyUcxhuvGJoTwQ03CmoLYA/yD94NUAsPCIQENAEy/7n+NP/T/5z/Bv7l+mv2x/FH7rzsG+wE6nnln99A20LZ4tcy19vWYNUx0fDMqdDm4Prx4/eQ/JwESwm8DqAcsCz7MkYzFzO6LRYojyciJlIjwSJFJHskoyEWHg0ZJROwEOoRExchG3cZjhW/EPwKZwefCUIO9A51DGYJuAUJAsL+7/wb/Qr+7v6u/an6DPfe8hrvs+we7KvqxOdI5JfgdN1C21TZxtfj1ivV0tE7zgHPodph7Gb2QPpoAcsHtQvrFSImITAiMeYvtyt7JX4iHCLzIP0f7SCbIQIfeholFXcPCg33Dc0RBRewFjQSlw0bCEwF3QZsC+oNqAqiBbYA0vxl+mD5IfrG+mL7ufrh96n0MfGZ7Z/rWusU60fpSOUU4EnbmNhf173WZ9Xt0fXNhsmHxhHM19y77cny4PWz/HYAqwVHFNskgirhKY4oxiNRHsIdLR4DHbocOx1FHBIXJRFBDNIHMgebCQ8OeBHEDwMMuAZLAiQC0gS+CPQIZASd/y/7B/g79tr1J/ca9z73jPaf83Tx6e6A7FbsV+xq68zod+RK3z/abNdq1a7SLc/fzF3Iv8E8wkrQl+O869ftO/RQ+Zr8ewh9G3ElNyUxJKkg4xpOGeMZqxcSFRAVpRXXEZYMVwmPBY8D4QRXCUwOjA2/CUkFmQDj/5sC7gaiCUsGNwF5/W36K/kW+DX4rPht+JP4Qfca9YfzFvHt79PvR+5X623mS+Fs3ELar9li1+fTZdArzETGocK/yVDdxuvJ7ZDw5vYW+5gBAhMNJtgq6ijbJnMfTxlcGTMamxknGaManxkBE3sO5gtDCGsIkgtOESYTEw6+CbUE1gDYAhUHcgwpDLYGCQPU/j3+vf9NAMQB7gK0AnoBUP0f+uf2QfMy9KHz2PEu7q/nXeJO3HvYQdU1z7zJ5MK7u/C1yr7s4q8M7CiSNyIzxyGRD/YA6wFlCxgLyglYCiwKNhD6GHUpPzZdOOU7BSwQE4YDivEm7x33DwQgGmMjby2YM04v0SpLGgALjPqp5x/lRuvb+d8L6xUBGjcXQBJhCjACIvt78ZPraOdy5cDmz+aa533nNugQ5zzgBNlszjnEsby1tNivzcWTAtM7IFqQY+lE/xBg8RzgmOnoBSMNTw0CDJcNOR+hMeJH7kgJLxkbWvn04TTrafSiCW4bMSPFL9suCjZdOQssShx4/ZvqheRk5K/8aRVuJjosYSPRFc0JQwWj/I31l+7I4l7jWuk/8nv7Zfwy90fq+eLm3PPWK9ff0YfKR8GNtkCtdcIwCbNK/WcgZqo3hPck2DDYfu/TEvcavg+cChMTvS6HRrtQ0DsGDYzxT+Bn4dD+gBDEGa8diRqfJE8s/TOrMcceLwof7xvqHfR3+6IN6BqoH0UdmBdJDysHrgff+5TxDO1z5Azq8fPq+dX6UvQV663gD96u3SrY69MeyQi+armgtBGrkLU49eA79V0jYEk76vkT0VTRWOTfBioXrg1MDbkYkTTqSWJH5iyg+p7gR+CD6OoEhRZ6FhsXHxcUIuQp2yVyGxcHF/iy7WnxrQHIBWgK5xIVFuwUPRJzCc78WPtv9Kvt7fDS7Bfvc/YB9ZTx+OtA5Vje/Ntm3bbWENNhy42+7rhGsT6i8aTe5DI24lxBX684yPHFxQjL2eKQBBAUEAfuBnAakjsWUelGxSMD7+LYJeaS9UEMsRccD1IQyBjEH9IgVBNgCUsAJADlAvz9lQNd/IL4/gYWEbcVIBH2BzP8wvxW/qf0P/UR78LqLvFA8SPx6Ozs5Xzdntt/3+TZ+NTBzLW+MbJpqUiZAqGc7YZDvmWUXxYxaeItu8/IA+NSByUTbQVKCz4lRUlWVoJCjxQV3jLUMOk0/kIWURutDvETvRtEJFgiWwxd+nDrPPIT/nsFQBBoB1IARQgQEAcQogkDANj0GPyBAAz8i/2u9bjvF/MW84PwNu8e6PHdyNsT297VftH7yRK/vbJSqYGYj6fI/TBQ/WqTWVIg79Lvtv3NfevNDpMSjAUvEp8vEFM5VQA2lAJv0z3ZRPPtCAEeExlgDqQYByGFKHAbiAEA8UTn2PaZA7cMGBPiB3YEOwzvEiUNagWv/Ob3rgecCisEyP+I85rvQPQv8q/sNen24kzezeHK35fU0MmTv/W1o690ppabKdPkNRppD2yuRKf337x/wyDi2QTRHRkPUg2RJzhLxF+kSoIeJuXK0rLvzgRSHRwlhxMKGgMlMS9TL/ER2vYL5fjtmwOOEPscWhShB9wLERflGXQSWwUH9jX9SAq9Cu0H4/u17onufPKl7zPsB+a52W7cY+H/2mXU88UItvqsjafYoC7TvzUhaa5srkqrAg7KO8tE5BICvBs3E0ET5C0bUTZnpFKoKCL0V93c9vEKdRvpJQoZICKpM4s7ST8tI8wCPOzg7wIDew3mHggbBxEzFswfHiPcGAMKJ/T7950GbwnTDvIEI/lc95n6L/fC6iHgZtD/0XjheuC+3UHS4bporJGl36G10rAztWkpa3JLQAZuzGPOu+T6/W8WGg9WEF0qc0yuY9RPFyVF83rdl/MZB28V3xzlE4wenjTeQbBGjiiXAADluuWF+ccFvBadEwcL+hA3HRskyxg5B+Xu9+xD+wUBwQf5/qzw3+z88nf3Be0p3jDJ1sTs0e7VT9XuyxG3CalKolujX+mtSMxnoFkTLkXq08Kq1/3v2gXoFZoJ3RRrMyNTbl12PnkShuSo4xgBpQrsGBsXQw1WIqQ18UbrQwMaPvLE3PzncflhB20TawcQBIsQwx7CHokQcfmN4ibrIfM6+GH9oO3D6KzsLvSW9HDlw9CiuTq6Dcely0TMq7+lqd2gg5vcw/0kJF2VWgY3RvrGxGjJd+pD/fsRiQtjCJsle0KvUzBCfBwZ8e7fSPtACqkQsxS+BT0TuysFOe5EVCv4BmbqGeX771r1tAWzAw4BxgpTGMggURQeBAjp5ONC77PsUPPi7p3mdeg97eruO+WT2HDEnLqIv/O97LxAvOyur6ISm/+6SRfyWKZcmThY+rm/rbvO4t79txOCD+EFxxwoO4JPCD4NGQXwR9s9+SIOWBKPFe4DdgnRI80yGjxWKfMLZfa68tb6HPYO/En7jPeTBvUXUiBwF1UJufOv7KryROuo66Ln3OTJ7A3ytvNU6Yrc2czdwkrE7L4jvda/NbXJrrijY7hGFmBacF+9PzP9br2QuOzg8f8DGqEVSQecHNo69VBKQEoaP/Dv2V/8hxUbG+QdFwe5CpglqDGFOgIp7A/c+338gQkNAA4CVfu9+KsIFRkYJYEZnw1t+I7x3vzP8Evtfuaq4FHsHvVC+S/wDuVt1b/JGs/lyybDDMDGsM+pEKcHxdIphWwjajJBHfxEvXm31+J4/nUXWBhkDwIq9UZCWXRBxRb37mPZBwACGX8c2SH+C6EUpy+xPSFEjCmmDXn5WQDpEfYL3w18As77LQm6GmAlXRq8DlD5+vQC/0L0//BV5yjhNeyj9pP8uvIS5IfTtclg0NHKNMKpvtquWqb+qxHymVd8ebNhDSJy2NGwqsjP9JoNDBtQEG8Zvjk+VdJWBy2NBI/i++foE2Mckh/EGccJMSRaPC9KjEHlHB4CXvh9D84XCxXSERv+Tf81D5wjLiP6FrIHGPMi/08ADPOS7QPfI+Jk8hf4hvUf7DTd2c5QzMjO1ccWxum9ELBlqCPEdyNhcDN1C0xKBdK/PraM3zoBKhm/FK0Poyg0SDBe90IzFdbww9zfAIwd5xtfH1QNTxJBMvlEzEvMMgEVlf/pB1QbehG8DysFef59DnYj3S3AHQAQdvq981sAIPNN6oHhK9ha5zn4dfXM6LDd0tDvypbNJcfjvii8HrNRqXuzP/w8V1l3vF9RIqPaKrMXyQnwCguiFKELDBpwOFxUW01vIHD68tyy7MwTyBdvGSsOPwUOIf45T0hGOW8b0AZDAEkXQhdJDhQJqvpOAh4WficiIHIRygKB8mP8Z/gD5zXdz8+z03jmRO5Q6L3fDdILxEbBAb9stmuyRK4cqEinqdZoOCZzYmtnOKHw7rWAtajc+foKDQMHTAzvJ3pFlk9yJ0/9B96H2MwDqBXAEWkQlADlD5csqj28O+we2QvuARARPhq/DDYFzvdR+WcLBiS8JpEWWwkl9WT2tvgd6HnbIs9gyirZBug45BHbFdC6vmS657n0sreqAabwoWSpGPwVXCl4MmAmHSjUkrBUx1jkHP5JDiEBMhoOOttKREI3DLDlE8+546gNhw4EEnAH9wTLHQEp+jnSKsgPlwT3Ay0cExmEDtMEs/fr/iUP3yMpH2YUHwf/+OoBQ/n45+PZWcv0zKvXBOEg1sHMtMfGuMm6ULZ/p8Oh95iwlirc4k8Tf+xsyzep5xqzlcWW5Af2RwtuBLUTXDwyVEpNHBot7MfLidclChYOxAshCjkCWyAqMAwyeigkEF4BLP99GZ8a+Q4jDCcBAwZ6D/QdDhspEwYQ3f9lB6oECvGf5PDRM8sazTjY59mY02/SP77TsW6s16CTnAiZvI25w9A+/3/5eiVLJvwGuoLBceY19k0PYQdvEgBBH165ZCcwf/wn1o/RCwvDE5YSVxVRB5UnfDteQT0yaBGqBNX7TBgsI5oXlhdiCbMLLBhJJkgj2BUMEmwDqwwiEkz9ufFZ4HLVR9bR3JvertYN1gfGEbqatSijp5uDleyPEM2eQZR9dHNQRx/+f8WA0W7vqfszDmwISxYTR7posGkAOn0KBeNW4HAPiBXfEl8V6RCcMDlEjUhDN60U7AG8+AETdR1CGEAduxRmFcccrijSIzYZjRWAB8wQrhXeBvP/rfDM5c7iYuNa4mnZEtfiyBu/SL2Or8OonqHUlJbGHTordJpoREHa/f3HLtTb9vn/0A5NCFcQnEDxYbZnTjtXDovsuOJUETAWJQ5fFOgOmS0JQ9pJiDuHFhcEUve3CrsWeg/bFV0RNhJFGlMkzCB/FT8TqwdfDCIS0gMZ/NbuAOS44MbgE9+F1svUJsZ/uNW3IqtAoz+Zgp8X9IhR+GnbTbcXdtpxvuHh9Pv3ATkKmQZOI4tN62ZKUhAfsgIy5xT7ChviDT8PXg6rHeI8sUheSVwmsgpD/Xj85BF7DbsKkAwTDfkR1hj8IC8RkQs7CEEAtgtNA771Ue6k5KXirN4c35XWEM+Gy0C47LK4sA+ig52KlZ68PiECXJxUfim58hXBqMLT6e/0Q/0j/5sK/DAJVcpdTDC4C/3yfuiHDBkO0AXsCqINLC24QCpMYTssFWYFh/SoAQII4/zHAjME3gpVDroWJBKuABYAIPXS92X+OPGc7DnlDOEF3cvX29S5xoXDIrxZqmmo1aDBm/CU4KZmBkJRLlT5LJjyxr6OrYnUUOx887D5uPs/HPM80FFJNDkF9fVs4BT7/g1u++kDlwcoI+I7nkYMRGAaogrL+wb4/QQr9n34mQLPCd0QxxP0FPwBePpL9rbuqffw8Ujpzeaa4Szevddi1P3Ku8JPvvKpcqH9nB+Xs5fztW0eFmQJWJcv+u8du3ezb9Wo6+3yUfsYBoQjMEJiTZYnk/7N8frmQgQYDqL60QA8CuUsikECS6hJKCSJFGcFkgOsBfj0m/0qCtgV5Rh8GK8WWAO3AXn73/YH/k3xY+qj5R/jVON93R/bM8xWv9W3OqnLpbegJZ4powLas0gkdQdWBh9l39SyEb4753P0Jv+YCRQfQj6GUgRKqA7w8anqx+vTFjcTdQSUDHEbn0KvTRtTID0+E40M1AZmEdEQ8wRyDgMZSCVrJMQgSBLn/KD94fnr/38FQfk583LqcOU14HfZANimzELF+cCMtxGt2p7LmdellvVaYEl5HVQ7GUDfCrzlzfjtt/Io/7cPPS+WTVxbgkVhCOv0iu2H9rUYoA0OCK4SuC91U+5ZiVozNXES1QsZCXgT8AvrC3YaxSaYMFcpVSR8EeT/hwBB+pUArwGD93v0MO+V7M7jJtvA0UvExsB4tRWoMJ/LnJylf+7NYCt7c1P9Hp/mPcBHypzojOsK+YISIDY4VXJhyEzxCeX09Oy/6hcRxAhGBmwWYzCOVzBXFFhNOCUOIApqADoMJw6cCdYZwiNCMF4qayVYGoMEsQQt+139PgE59VP2Fu236oXoGeA02bvFGL6gsYWjMZ8tkqasLBH2bg10fD9xDczTM7q811Tf+OJP8PsMgD0lV1Jnmzsp/57z1N8B8U4B+PYLAlMQZj2TVoZWl03+HWkHbgC4/k8EOP5OCDMVQiQ5KGshViB1Di0GIwDz+OP+Ivbx8lfvLunN6uzczdMsyBu/4bsgqsyi4pndjUDAsSykaZBSpCKJ8/jC0MLu2sLVNdkN69cTRT4HWHRYVhst/MLxut2d9AHv2OoO/m4axUweVDFS1z7hElMHBfzo+cn2CfIRB6YV5CF9Ivcb9RaSB6kCdfgS8rT2uPCk8Q7sSuSy3hvUvM9Iw9G6BK5BnR+efJaJpdL8XVF4Wp4yuQjc2qm7MM3W1VrTKd9Q+fAmXEfwXJM+/gfz+9HjCeF47CXh8ev6A8s0ZlcWV3dSiCs+DOgDHfky9SDuKPrsD1wc4yQuIPQZtw6vAkz7tvCz8SHu3egZ64jnM+c3353WGso8uX2yvKLYmVac4ZzIzp4tWl4ESCobrfVTzFjBfdKm0cXW3eoHEPEzDkxMU+YjawNJ93HcG+K13+vc/fDrEWtCIlVFW3pNnB/kB0j68u5S6wnuewO6FaAh/ibSIQwZaAja/BL0lu+g8R3s1elI5rHjLuPD27DSt8LQtcGrAKLuoYKeqbAWBbBXK1ohMZQJaeATxnfOwNRb0wngAgG9KPU+IlEKOTAMEQOG6mrez+L62lbopABSK+1M4lA9Vb09bBs4Cuv3EO+D7FH4AhLwHrEmzyqxJV4bFg0X/4rzXvKb9Ovxtu+w6zjoieUh38DSEMm3wMyuCp9Smj6jseRxR0Jq30pCJAcBYNtY1cnZfNEc2Xz0rSJeQY5TBFKbJY8V9Ad+6v7m/tsA4nL7bBxTRslSEVfuUUs3TyA2Binzg+4d9CcL9R5/JeksKjLyKxweKQ3F/Pb2Z/iM+Hr2VfJv8SfvjOyh5IDT4sbdutavgancplW+RQwIXHZkwUFCIR76SdwC3ELbD9rC5IAFRTE8R0ZYMEnhIyAaIgJx7P/mLt7h69oD6CXjSkNVHlaCS44z0h0xAYPuze0l93MQFSGGJQkvkzG0Kb4ZmQfu+i/0RPUy9kjzoPJJ8Nnsu+mW3SjQSMTwus60YavqqP/OcSebYYVSMTPeFSrvIt0S3qzYDdit55UPiTPvRpNQTjQxHSoTHPeM6YPezNoN75EIuC3gSBRPtVDbP3knKw+H9KXpAuwy/D8TMBxvI6ssfylrHz4Qy/5w9ZPxNe+w6x/m9uV25CXiLt0Rz4vHNcBishqojKCLuqgKsE1YUBIzlxqJ+13gl9z+0xnNVNnu++Qj6zmvRyw4Yx91F3X/0+dp2qnSe+Cv+DkY0TaMQ0xKrkd4Lz0SNPfs4//iLO0JAZwPoxXJJAoqZCArFGEAtvON78bpt+Wi3/nc3tuP2ina4NHgyFvB/7WNrAOkcKxT6WMxVEJELz4cXgPp50nfjtm8zwHTy+owDxco3TmqNx0ivRoDCxzy6+GV1nPap+tgBdkh4TToPqpDgjlcIUwGTeyJ4CDkL/EBAssKdxddJKch7BlXCrn4ifCv5j7gw9v81pXYfdhy1ojResnCwhW3ca54qiqu5+CLJC048yfLGEEHJOyj4FTa2dF51f/pKAtvIYo1pDhWJm0fIQ5b9Pzh99Yj27boAACsGSctZT1HR18/XidLDWr0puVV5ovwI/9zCcIXCygXKGEgchDL/F/18ur033TbfddO2T7chtyu1pjJRMLPvAq0Ca6ctnnogSKTMXMmMhroCHzyP+Zo3f3V09ou77oNGSVfOIs7ZC5wJloUYvz86GbcKOE28OIEFhscLtk+AEWcPf8r/hIh/C3tWurs8lf+3An/FzEmuSoQIzoWVAhT/u70d+iD4azdqdsl3d7ck9uy1s3Nc8X4vYe4u74n6aQfBC6mIsUbEBBT+mrs4uIH20vdc+8sDMwfqjP9O24xqCwAHpoF8/K05GDmA/O7BOAaVS1lPYNEXj7yMSodZgSm843r4u/d+ycHjBbmJGMq6iadG2AOqALU9gPrw+Ic35je1uCE4cXf19oI01fNlskxxEvKz/FkHQkn6R/WHJ0TWwDs8zHpSeBQ5L7zHAy+H6MwGTlGMtQtxiDOCRv41umi6N/0EwZ/GWEr4zqZQrk93jH/IFIIi/SC7JDvffqdBC0ToyIuKHkmORziDgAE6vWC6+LkKeA04B/gF+D33n3bjtgy1J7NTMeQ0nj6bxzOIe8bwBlLE3MEM/np7o3m3elm+DMOCyEXLuE00zEULbghaw3U+zfvPOzG9jAHDRmyK8M6V0IRPowxSCGMCwP5DvFF8sT6EQXTEtchISfII/waXg+mA9rz6OV833jc6txN35LewNtY2aHWDtOZzjnSWegKCR0abBYUE5MRWAj5+8/xdeux6i/y5gIVFLEizS2kMBwvJidLF3YGfvZ67nfywP3wD8gkVzTkOlE5tjFCJYcU1AIZ9gzyFfbU/a8HShS2HYMeuxdODsoEdfhh6onetNnI2B/ZsNuO2zPYOtO1z8DPiNGT203z0gnZD3YLiQmvB1z9FvEr6rfmpeqi9igFqxKoHAAkOSW1IDAYoAm7+rnvB+2P9CMA2w94IkQw6jLxKtcgZRZzCTT61e8M7+byP/sKBUUPwRXAErIK9QCP9w7rGt071M3RBNQm1R7U0dLf0eXRk9F01EXiTvhuCYcKrwMyAo39mfRy7Q7nIuUG6R31NQVpEHwXLBuLG60a5xPRBdn2/eze6zHzK/+mDTMdESjeK2EnohyDD0YBJfZP7jzrEu6j9CAAHAr+DBYLmwPR+AHtmOCw1hvRqs/NzvLNnM630VHUr9Zf4EDw9/6YBXgDsAAm/mD3aO9C6JzlIOdI7RX61waKEJYWABiEF/cURQ3mA1P5AfKq9Hz9pweDEcsY3x3WIHweUxfgCsz+NPko9zz3dvfz+Kb8Kv6a/Z363PPA7Ejk9dvC1m3U3NRt0iDQtdND2o7hGfAyAaIHUQXxALL+OPvy9Xzya/CZ8Gv1s/31B8wQmhQPFZITUxHmDYkITgPvAL8A2QOwCakN9hGEFYAWPhaaEtMNRAopBwkFCAMCASkBAwIsAYD9Lvck8Xbs+Oi65kjj7N+j3vHdMd0N3fbgXOnB9WoEew1cDboJ3QXwAeT9gvlI+Pb5lP87CaESLBsQIGMfvhvWFmIPMQdrARcAdgNsCfAQkhhUHW4eIh2dGKkROgsZBucD1wXEB0oLjg9NEokSrg3EBhP+lPaz8f3sw+mh6NbpQu0O8O3wT/Ly9KT76gbxD/0SqRCWDC0KgQj8BY4DuwPoB1QOORYgHkYjxyS7Ih8eihfEDz8IWgPYAXEDRwdADZEU4xq4HT4c/hfjETsLZAX7AakAeAHdBL4JXA7YELEQlAwhBhr/hPcz8brspOpz63Pt7e5W8l742f0sA6cIkgzoDU4MoAkfCA0GVwSZBTUI/wxIETsVpRo+Hu8fNh8wG+kVDBABCeAD7AAZATAEoQenCsINiRDoEIIOqwpvBlYBuP3P+6T6JfrN+v38+v84Aar/VPz49+j0MfE07G7pJOnU6FDoe+qz7kPznPek/PEBRwUBBjsD/wDJAZ8DKgZ+CHYKQg05EEwTJRWLFSEVzRLREHkOJwsvB7cDIwOWA7cD+gNNBGgEngNDASn++vsh+6z5z/f99Y/0svP+8p3ze/Mr8ofwRu9z70vv1exd6l3qsevt67bqq+tp7uvxX/aa+vn96ADrAhsDNQO8A2YErgUHCLQKWwxODXYOAQ+VD1APnw2KCwQJHgdeBf4DdgMCBPkEbAWiBDgCTP8w/Gf5LPcg9Qj0vfPP81L0ffRB9CXzyfAJ7gPsz+q26XPoKOiG6qLssO1d70Pwj/Do8CvywfRh+Cb8G//3ALUCxgQxBmwGOQbbBqwH7QgYCiMLGQygDDYNFQ2dCwsJMQaGA4YBGwEKAhYD7gPdAsoAFv6E+pX3UPQd8XrvW/Be8uHzzvQ29ar0mPIH8Jvtf+p251LlsuVQ6bXtnPDM8STzI/UR98X3OPYD9Xz29/kN/jkBigN1BQgHJAj7CDsJ4AikBx8HRwgcCc0JeAoMCpMI6QamBEgCZgCW//r/ggCyANr/L/6h+0b5GPeU9F/y+/AJ8UTxrvCD8C3yOfP98jvx3+7k7abs9Ouo7MbuJPKN9GP2XPnY+pL7B/0W/uf+VACYAsAEswZCCOMJEgvyC8MMUQ1oDQ4NwQx6DLgMRw1xDXoMMwsWCqoISwfYBU0EVgMWAyoC+AALAJr+AP2B+w36PPi79ZPz4/I38370S/UI9Ub0dvOR83L02PTV9JX1EveY+K750PuX/ncAtQFrAyIFDQfNCJwJlQoNCwMMWQ2qDqYPew/gDiEOLg40DrANvwwfDPcLEAvECZkITQdYBXwDEAJXAQUBJAHqAc4BPwHTABUAWv8+/Uf6dvgp9+T3/vlJ+6X7mfvr+338DP3Y/LH8RPzz+5b8kf2T/qb/aQGUA+IFEAgVCVsJ3AlrCrQKlQrICtALZgykDAsNfAxZDJ4M/gtpC6oKbQkcCCYHMwZoBKoClQEzAfwATwBMANQAUgGEAiQDiALaAVgA6/6U/Rv8s/sn/En9zf5LAG4B8QGNAcUB3gEuAbMAdgAaAdECdQRvBWIG2wbYB/AJdQtmC98KrgqUChcK5Ql+CoAKawqDCkoK9AkpCVkI4gZyBeMEWAOXAZwAPgDj/yv/a/5Z/rj+Vf/u/2n//v57/3UA5gDYAPP/BP/K/vX+EgDAATEDpgNHBBkEcwMEA4AC6wJpA4QDkQMLBHYEHQXIBUoF1gQuBXkFlAUEBSgEcwN4AvkBKgJSAsUB1QD3/7r/gf+x/kf+0P2C/UL9hPwp/Gv8c/xM/Ev80Puu+7b7PvxV/ef9t/2p/bn+H/8O/9n+iP6j/tz+zP+RAKIAXgBlAJUAkP+z/jX+3/1p/hr/gf9v/xj/4v7P/xEAdv+k/6r/nv8g/4T+KP76/d/9V/3G/Gj8Efyn+6L7Mvx2/D/7Bvp1+oP77fsu+yL75/sI/O/7D/xv/AP9+P2U/v7++f7R/jz/vv+6/57/6//u/5H/Vf9d/0X/kf+r/7z/f/9e/2QATQDK/7H/mP9WAKYADwB2/8b+GP4h/vP9iP2M/Rf9zfx5/Q3+Xf3X+8/6MvvC+037CfuN+8j7t/uL+y38+/wq/Xj9H/7k/QP93vzS/Bj+cf+T//T/RQC8AEYBvQCy/1L/vf+h/4f/of+C/xEAqwB3ABYAo/+K/1oAVQDZ/7f/Rv8S/xj/W//y/8v/fP8R/5f+j/5M/kL+Pf7H/Sz9Kv0T/Rz9Tv2f/QL+Ov2X/Gr9Wf4K/ib+IP5D/mD+2f0B/lr+k/73/u7//gDiAS8ClwGFABYAAQAGAAAAgP+q//T/TgCrAEAAIACSAP0AvADz/3L/aP+Q/9P/6f8FACAALwDBAIQA0f9Q/wP/sf9UAEAAt/+U/7T/CABCAKj/E/9N/+7/4f/q/xIABQAfADkALACr/4H/Zf9R/yUAGgFdAf4AgwDcABwBZwHUAbkBvgGLASIB/wCfAdMBHgIUAuwBRQKdAsQC4wE9AYkALwDvAAgCMQIeAjECOgJrAvMBRAF7AO4AwwEQAu4BjAFmASUBzwBsAIkAowAlAdIBpwHsAFYAkADLAJEArwC5APgAdQF/AUIBZwGMAUwBUwEwAR8BbwHGAdABOwESAYYBXAHqAOwAYAG5AdsBaQFjANH/BwCYAJAAOAB9APwAWQFtAe4AowC9AJsAYgB1AJUAkgCIAFkAMwAlALoA7QDqABYBIABw/0P/L/9P/yIA8gCtAAsAxv8hAFIAYwBHADsAWACjAJoAvf/m/wQBBgJaAkEB6v+o/yAA7wAFAaoAcAAKAFQAaAACANr///9fALcAvgBVAB4AUQALAMf/hf93/+n/3v8AAGMAjAB1AD0ABQDM/9v/FwAHAOb/9v9eAEEA8v8WAOb/DQBJAD8AaAAyADcAIQDy//z/7f/+/xQAjwCMAHwAcADW/2v/uf8rADsAxP9s/3X/kP9DALIAZwAiAOn/8v/x/7f/j//9/uP+cP8iAJsAlABzAFYA7P+j/zv/FP8//2D/iv+r/xYAz/+y/7r/cv+l//D/6v+F/x7/dv9r/zH/k/95/8T/BQAQAAUAwf+v/27/dv8GAN3/nP/O/5//j/9y/3H/e/93//T/YQAIAI7/XP9F/y3/Tf9E//f+z/4o/6z/sv+6/2T/Bf/l/uT+Sv9x/0r/UP+o/8b/qP+L/1H/Sv9x/4P/df9k/43/t/+x/9v/mf9o/3D/Q/94/73/3f/c/73/if9Q/zr/ev+x/+v/9v/J//H/AQD5/wcAsf9U/zP/C/82/17/uf8pAEoAVAABAKP/Xf9R/8r/9/+8/6D/ef+d/+P/3P+M/2f/3P/y/9b/vP9k/3v/2v8eABAAv/+r/5//pf++/5//h/9g/7L/LQBPAGEAMQDC/2P/WP+L/8///v8OABQAFQD8/5v/Z/+E/6P/8P8eAB8AOgBQAFAAPAAEAPj/qv8z/1L/jf/q/y4AXwCEAGMALwAWAM//q//X/+P/LwAUAN3/AgAHAB8AUgBOADUABwAAABMA7/8DAFMAdAAUANX/7v/p/wAABgACACcANgBjAIsAOgDi/7z/s//e//r/RgBsAGkAWwBtAGsAVAAjAPD/AgDz/zQAewCEAEsAMAAsAD4AHQD2/wAA3//1/zUAQwBVAFYAKQAqAAAACQAsABUA///v//X/SwBuAFgATgAEAN7/MgBmAEoAUQBAACcA\" type=\"audio/wav\" />\n",
       "                    Your browser does not support the audio element.\n",
       "                </audio>\n",
       "              "
      ],
      "text/plain": [
       "<IPython.lib.display.Audio object>"
      ]
     },
     "execution_count": 33,
     "metadata": {},
     "output_type": "execute_result"
    }
   ],
   "source": [
    "samples, sample_rate = librosa.load(filepath + '/' + 'Mehtab1.wav', sr = 16000)\n",
    "samples = librosa.resample(samples, sample_rate, 8000)\n",
    "ipd.Audio(samples,rate=8000) "
   ]
  },
  {
   "cell_type": "code",
   "execution_count": 34,
   "id": "fb49e9b0",
   "metadata": {},
   "outputs": [
    {
     "name": "stdout",
     "output_type": "stream",
     "text": [
      "1/1 [==============================] - 0s 47ms/step\n"
     ]
    },
    {
     "data": {
      "text/plain": [
       "'তুমাৰ'"
      ]
     },
     "execution_count": 34,
     "metadata": {},
     "output_type": "execute_result"
    }
   ],
   "source": [
    "predict(samples)"
   ]
  },
  {
   "cell_type": "code",
   "execution_count": null,
   "id": "4f3309dd",
   "metadata": {},
   "outputs": [],
   "source": []
  }
 ],
 "metadata": {
  "kernelspec": {
   "display_name": "Python 3 (ipykernel)",
   "language": "python",
   "name": "python3"
  },
  "language_info": {
   "codemirror_mode": {
    "name": "ipython",
    "version": 3
   },
   "file_extension": ".py",
   "mimetype": "text/x-python",
   "name": "python",
   "nbconvert_exporter": "python",
   "pygments_lexer": "ipython3",
   "version": "3.9.12"
  }
 },
 "nbformat": 4,
 "nbformat_minor": 5
}
